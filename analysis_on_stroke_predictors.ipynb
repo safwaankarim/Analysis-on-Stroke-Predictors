{
  "nbformat": 4,
  "nbformat_minor": 0,
  "metadata": {
    "colab": {
      "provenance": []
    },
    "kernelspec": {
      "name": "python3",
      "display_name": "Python 3"
    },
    "language_info": {
      "name": "python"
    }
  },
  "cells": [
    {
      "cell_type": "code",
      "execution_count": 1,
      "metadata": {
        "colab": {
          "base_uri": "https://localhost:8080/",
          "height": 74
        },
        "id": "1gQ9FtuEDdIY",
        "outputId": "ed5133f2-d907-493f-b91f-4347e53004e5"
      },
      "outputs": [
        {
          "output_type": "display_data",
          "data": {
            "text/plain": [
              "<IPython.core.display.HTML object>"
            ],
            "text/html": [
              "\n",
              "     <input type=\"file\" id=\"files-29b67df5-7a32-4cab-88b2-c7a3911947e2\" name=\"files[]\" multiple disabled\n",
              "        style=\"border:none\" />\n",
              "     <output id=\"result-29b67df5-7a32-4cab-88b2-c7a3911947e2\">\n",
              "      Upload widget is only available when the cell has been executed in the\n",
              "      current browser session. Please rerun this cell to enable.\n",
              "      </output>\n",
              "      <script>// Copyright 2017 Google LLC\n",
              "//\n",
              "// Licensed under the Apache License, Version 2.0 (the \"License\");\n",
              "// you may not use this file except in compliance with the License.\n",
              "// You may obtain a copy of the License at\n",
              "//\n",
              "//      http://www.apache.org/licenses/LICENSE-2.0\n",
              "//\n",
              "// Unless required by applicable law or agreed to in writing, software\n",
              "// distributed under the License is distributed on an \"AS IS\" BASIS,\n",
              "// WITHOUT WARRANTIES OR CONDITIONS OF ANY KIND, either express or implied.\n",
              "// See the License for the specific language governing permissions and\n",
              "// limitations under the License.\n",
              "\n",
              "/**\n",
              " * @fileoverview Helpers for google.colab Python module.\n",
              " */\n",
              "(function(scope) {\n",
              "function span(text, styleAttributes = {}) {\n",
              "  const element = document.createElement('span');\n",
              "  element.textContent = text;\n",
              "  for (const key of Object.keys(styleAttributes)) {\n",
              "    element.style[key] = styleAttributes[key];\n",
              "  }\n",
              "  return element;\n",
              "}\n",
              "\n",
              "// Max number of bytes which will be uploaded at a time.\n",
              "const MAX_PAYLOAD_SIZE = 100 * 1024;\n",
              "\n",
              "function _uploadFiles(inputId, outputId) {\n",
              "  const steps = uploadFilesStep(inputId, outputId);\n",
              "  const outputElement = document.getElementById(outputId);\n",
              "  // Cache steps on the outputElement to make it available for the next call\n",
              "  // to uploadFilesContinue from Python.\n",
              "  outputElement.steps = steps;\n",
              "\n",
              "  return _uploadFilesContinue(outputId);\n",
              "}\n",
              "\n",
              "// This is roughly an async generator (not supported in the browser yet),\n",
              "// where there are multiple asynchronous steps and the Python side is going\n",
              "// to poll for completion of each step.\n",
              "// This uses a Promise to block the python side on completion of each step,\n",
              "// then passes the result of the previous step as the input to the next step.\n",
              "function _uploadFilesContinue(outputId) {\n",
              "  const outputElement = document.getElementById(outputId);\n",
              "  const steps = outputElement.steps;\n",
              "\n",
              "  const next = steps.next(outputElement.lastPromiseValue);\n",
              "  return Promise.resolve(next.value.promise).then((value) => {\n",
              "    // Cache the last promise value to make it available to the next\n",
              "    // step of the generator.\n",
              "    outputElement.lastPromiseValue = value;\n",
              "    return next.value.response;\n",
              "  });\n",
              "}\n",
              "\n",
              "/**\n",
              " * Generator function which is called between each async step of the upload\n",
              " * process.\n",
              " * @param {string} inputId Element ID of the input file picker element.\n",
              " * @param {string} outputId Element ID of the output display.\n",
              " * @return {!Iterable<!Object>} Iterable of next steps.\n",
              " */\n",
              "function* uploadFilesStep(inputId, outputId) {\n",
              "  const inputElement = document.getElementById(inputId);\n",
              "  inputElement.disabled = false;\n",
              "\n",
              "  const outputElement = document.getElementById(outputId);\n",
              "  outputElement.innerHTML = '';\n",
              "\n",
              "  const pickedPromise = new Promise((resolve) => {\n",
              "    inputElement.addEventListener('change', (e) => {\n",
              "      resolve(e.target.files);\n",
              "    });\n",
              "  });\n",
              "\n",
              "  const cancel = document.createElement('button');\n",
              "  inputElement.parentElement.appendChild(cancel);\n",
              "  cancel.textContent = 'Cancel upload';\n",
              "  const cancelPromise = new Promise((resolve) => {\n",
              "    cancel.onclick = () => {\n",
              "      resolve(null);\n",
              "    };\n",
              "  });\n",
              "\n",
              "  // Wait for the user to pick the files.\n",
              "  const files = yield {\n",
              "    promise: Promise.race([pickedPromise, cancelPromise]),\n",
              "    response: {\n",
              "      action: 'starting',\n",
              "    }\n",
              "  };\n",
              "\n",
              "  cancel.remove();\n",
              "\n",
              "  // Disable the input element since further picks are not allowed.\n",
              "  inputElement.disabled = true;\n",
              "\n",
              "  if (!files) {\n",
              "    return {\n",
              "      response: {\n",
              "        action: 'complete',\n",
              "      }\n",
              "    };\n",
              "  }\n",
              "\n",
              "  for (const file of files) {\n",
              "    const li = document.createElement('li');\n",
              "    li.append(span(file.name, {fontWeight: 'bold'}));\n",
              "    li.append(span(\n",
              "        `(${file.type || 'n/a'}) - ${file.size} bytes, ` +\n",
              "        `last modified: ${\n",
              "            file.lastModifiedDate ? file.lastModifiedDate.toLocaleDateString() :\n",
              "                                    'n/a'} - `));\n",
              "    const percent = span('0% done');\n",
              "    li.appendChild(percent);\n",
              "\n",
              "    outputElement.appendChild(li);\n",
              "\n",
              "    const fileDataPromise = new Promise((resolve) => {\n",
              "      const reader = new FileReader();\n",
              "      reader.onload = (e) => {\n",
              "        resolve(e.target.result);\n",
              "      };\n",
              "      reader.readAsArrayBuffer(file);\n",
              "    });\n",
              "    // Wait for the data to be ready.\n",
              "    let fileData = yield {\n",
              "      promise: fileDataPromise,\n",
              "      response: {\n",
              "        action: 'continue',\n",
              "      }\n",
              "    };\n",
              "\n",
              "    // Use a chunked sending to avoid message size limits. See b/62115660.\n",
              "    let position = 0;\n",
              "    do {\n",
              "      const length = Math.min(fileData.byteLength - position, MAX_PAYLOAD_SIZE);\n",
              "      const chunk = new Uint8Array(fileData, position, length);\n",
              "      position += length;\n",
              "\n",
              "      const base64 = btoa(String.fromCharCode.apply(null, chunk));\n",
              "      yield {\n",
              "        response: {\n",
              "          action: 'append',\n",
              "          file: file.name,\n",
              "          data: base64,\n",
              "        },\n",
              "      };\n",
              "\n",
              "      let percentDone = fileData.byteLength === 0 ?\n",
              "          100 :\n",
              "          Math.round((position / fileData.byteLength) * 100);\n",
              "      percent.textContent = `${percentDone}% done`;\n",
              "\n",
              "    } while (position < fileData.byteLength);\n",
              "  }\n",
              "\n",
              "  // All done.\n",
              "  yield {\n",
              "    response: {\n",
              "      action: 'complete',\n",
              "    }\n",
              "  };\n",
              "}\n",
              "\n",
              "scope.google = scope.google || {};\n",
              "scope.google.colab = scope.google.colab || {};\n",
              "scope.google.colab._files = {\n",
              "  _uploadFiles,\n",
              "  _uploadFilesContinue,\n",
              "};\n",
              "})(self);\n",
              "</script> "
            ]
          },
          "metadata": {}
        },
        {
          "output_type": "stream",
          "name": "stdout",
          "text": [
            "Saving healthcare-dataset-stroke-data.csv to healthcare-dataset-stroke-data.csv\n"
          ]
        }
      ],
      "source": [
        "# Load the data onto the Colab environment\n",
        "\n",
        "from google.colab import files\n",
        "uploaded = files.upload()"
      ]
    },
    {
      "cell_type": "code",
      "source": [
        "# Importing all necessary packages\n",
        "\n",
        "# chi-square test\n",
        "\n",
        "!pip install researchpy\n",
        "\n",
        "import pandas as pd\n",
        "\n",
        "from sklearn.model_selection import train_test_split\n",
        "from sklearn.linear_model import LogisticRegression, LogisticRegressionCV\n",
        "from sklearn.model_selection import GridSearchCV\n",
        "from sklearn import metrics\n",
        "from sklearn.neighbors import KNeighborsClassifier\n",
        "from sklearn.tree import DecisionTreeClassifier\n",
        "from sklearn.tree import export_graphviz\n",
        "from sklearn.metrics import roc_auc_score\n",
        "\n",
        "from imblearn.pipeline import Pipeline, make_pipeline\n",
        "from imblearn.over_sampling import SMOTE\n",
        "\n",
        "\n",
        "import seaborn as sns\n",
        "\n",
        "import researchpy as rp\n",
        "from scipy import stats\n",
        "\n",
        "from io import StringIO\n",
        "import pydotplus\n",
        "from IPython.display import Image"
      ],
      "metadata": {
        "id": "T1TthpLnJLFu",
        "colab": {
          "base_uri": "https://localhost:8080/"
        },
        "outputId": "59fd078e-03da-47c6-f35e-34f2d034a6fb"
      },
      "execution_count": 2,
      "outputs": [
        {
          "output_type": "stream",
          "name": "stdout",
          "text": [
            "Looking in indexes: https://pypi.org/simple, https://us-python.pkg.dev/colab-wheels/public/simple/\n",
            "Collecting researchpy\n",
            "  Downloading researchpy-0.3.5-py3-none-any.whl (33 kB)\n",
            "Requirement already satisfied: statsmodels in /usr/local/lib/python3.8/dist-packages (from researchpy) (0.12.2)\n",
            "Requirement already satisfied: pandas in /usr/local/lib/python3.8/dist-packages (from researchpy) (1.3.5)\n",
            "Requirement already satisfied: scipy in /usr/local/lib/python3.8/dist-packages (from researchpy) (1.7.3)\n",
            "Requirement already satisfied: numpy in /usr/local/lib/python3.8/dist-packages (from researchpy) (1.21.6)\n",
            "Requirement already satisfied: patsy in /usr/local/lib/python3.8/dist-packages (from researchpy) (0.5.3)\n",
            "Requirement already satisfied: pytz>=2017.3 in /usr/local/lib/python3.8/dist-packages (from pandas->researchpy) (2022.6)\n",
            "Requirement already satisfied: python-dateutil>=2.7.3 in /usr/local/lib/python3.8/dist-packages (from pandas->researchpy) (2.8.2)\n",
            "Requirement already satisfied: six>=1.5 in /usr/local/lib/python3.8/dist-packages (from python-dateutil>=2.7.3->pandas->researchpy) (1.15.0)\n",
            "Installing collected packages: researchpy\n",
            "Successfully installed researchpy-0.3.5\n"
          ]
        }
      ]
    },
    {
      "cell_type": "code",
      "source": [
        "# Part 1 Data Acquisition & Cleaning\n",
        "\n",
        "# Read data from a CSV file into a data frame\n",
        "\n",
        "df = pd.read_csv('healthcare-dataset-stroke-data.csv') \n",
        "\n",
        "# Display the first ten rows of the data frame to examine if it is an individual-level data set\n",
        "print(df.head(10))\n",
        "\n",
        "# Display the variable list\n",
        "print(df.columns.values)\n",
        "\n",
        "# Display the number of rows and the number of columns in the data set to confirm the portrait shape\n",
        "# The first element of the output is the number of rows and the second is the number of columns \n",
        "print(df.shape)"
      ],
      "metadata": {
        "colab": {
          "base_uri": "https://localhost:8080/"
        },
        "id": "PndsYiSlJbeK",
        "outputId": "6220eced-3d16-476c-cca1-d3a94ad4b61c"
      },
      "execution_count": 3,
      "outputs": [
        {
          "output_type": "stream",
          "name": "stdout",
          "text": [
            "      id  gender   age  hypertension  heart_disease ever_married  \\\n",
            "0   9046    Male  67.0             0              1          Yes   \n",
            "1  51676  Female  61.0             0              0          Yes   \n",
            "2  31112    Male  80.0             0              1          Yes   \n",
            "3  60182  Female  49.0             0              0          Yes   \n",
            "4   1665  Female  79.0             1              0          Yes   \n",
            "5  56669    Male  81.0             0              0          Yes   \n",
            "6  53882    Male  74.0             1              1          Yes   \n",
            "7  10434  Female  69.0             0              0           No   \n",
            "8  27419  Female  59.0             0              0          Yes   \n",
            "9  60491  Female  78.0             0              0          Yes   \n",
            "\n",
            "       work_type Residence_type  avg_glucose_level   bmi   smoking_status  \\\n",
            "0        Private          Urban             228.69  36.6  formerly smoked   \n",
            "1  Self-employed          Rural             202.21   NaN     never smoked   \n",
            "2        Private          Rural             105.92  32.5     never smoked   \n",
            "3        Private          Urban             171.23  34.4           smokes   \n",
            "4  Self-employed          Rural             174.12  24.0     never smoked   \n",
            "5        Private          Urban             186.21  29.0  formerly smoked   \n",
            "6        Private          Rural              70.09  27.4     never smoked   \n",
            "7        Private          Urban              94.39  22.8     never smoked   \n",
            "8        Private          Rural              76.15   NaN          Unknown   \n",
            "9        Private          Urban              58.57  24.2          Unknown   \n",
            "\n",
            "   stroke  \n",
            "0       1  \n",
            "1       1  \n",
            "2       1  \n",
            "3       1  \n",
            "4       1  \n",
            "5       1  \n",
            "6       1  \n",
            "7       1  \n",
            "8       1  \n",
            "9       1  \n",
            "['id' 'gender' 'age' 'hypertension' 'heart_disease' 'ever_married'\n",
            " 'work_type' 'Residence_type' 'avg_glucose_level' 'bmi' 'smoking_status'\n",
            " 'stroke']\n",
            "(5110, 12)\n"
          ]
        }
      ]
    },
    {
      "cell_type": "code",
      "source": [
        "# Part 1 continued: Missing Value Imputation & Data Exploration\n",
        "\n",
        "# Drop id\n",
        "rvar_list =['id']\n",
        "df_sample1 = df.drop(columns=rvar_list)\n",
        "\n",
        "# Drop 'N/A' values in 'bmi' column\n",
        "df_sample2 = df_sample1.copy()\n",
        "\n",
        "median_bmi = df_sample1['bmi'].median()\n",
        "df_sample2['bmi'] = df_sample1['bmi'].fillna(median_bmi)\n",
        "\n",
        "# Separate all the variables into two lists for future column indexing\n",
        "# One for numerical, the other for categorical \n",
        "cvar_list = ['gender', 'hypertension', 'heart_disease', 'ever_married', 'work_type', 'Residence_type', 'smoking_status','stroke']\n",
        "nvar_list = ['age', 'avg_glucose_level', 'bmi']\n",
        "\n",
        "# Get the unique values of each categorical variables in the data frame\n",
        "def column_unique_values(x_column):\n",
        "  return list(x_column.unique())\n",
        "\n",
        "\n",
        "# Drop the one observation with 'Other' in the 'gender' column\n",
        "df_sample3 = df_sample2.copy()\n",
        "df_sample3 = df_sample2.drop(df_sample2[df_sample2.gender == 'Other'].index)\n",
        "\n",
        "\n",
        "print(df_sample3['smoking_status'].mode())\n",
        "\n",
        "df_sample4 = df_sample3.copy()\n",
        "df_sample4['smoking_status'] = df_sample3['smoking_status'].replace('Unknown', 'never smoked')\n",
        "\n",
        "\n",
        "# Check if there is any missing value left\n",
        "print(df_sample4[cvar_list].apply(column_unique_values))\n",
        "\n",
        "df_sample4.isnull().sum()\n"
      ],
      "metadata": {
        "colab": {
          "base_uri": "https://localhost:8080/"
        },
        "id": "h1KvLrCOJhtk",
        "outputId": "7680f4fd-f81c-4a79-e77e-1d2a55f00d21"
      },
      "execution_count": 4,
      "outputs": [
        {
          "output_type": "stream",
          "name": "stdout",
          "text": [
            "0    never smoked\n",
            "dtype: object\n",
            "gender                                               [Male, Female]\n",
            "hypertension                                                 [0, 1]\n",
            "heart_disease                                                [1, 0]\n",
            "ever_married                                              [Yes, No]\n",
            "work_type         [Private, Self-employed, Govt_job, children, N...\n",
            "Residence_type                                       [Urban, Rural]\n",
            "smoking_status              [formerly smoked, never smoked, smokes]\n",
            "stroke                                                       [1, 0]\n",
            "dtype: object\n"
          ]
        },
        {
          "output_type": "execute_result",
          "data": {
            "text/plain": [
              "gender               0\n",
              "age                  0\n",
              "hypertension         0\n",
              "heart_disease        0\n",
              "ever_married         0\n",
              "work_type            0\n",
              "Residence_type       0\n",
              "avg_glucose_level    0\n",
              "bmi                  0\n",
              "smoking_status       0\n",
              "stroke               0\n",
              "dtype: int64"
            ]
          },
          "metadata": {},
          "execution_count": 4
        }
      ]
    },
    {
      "cell_type": "code",
      "source": [
        "# Part 1 continued\n",
        "# Draw a heat map for all the numerical variables in the data frame\n",
        "\n",
        "# Placeholder variables: df4heatmaps\n",
        "df4heatmaps = df_sample4.drop(columns=cvar_list)\n",
        "\n",
        "# Compute the correlation matrix \n",
        "corr = df4heatmaps.corr()\n",
        "# Print the correlation matrix\n",
        "print(corr)\n",
        "# Draw the heatmap\n",
        "sns.heatmap(corr, xticklabels=corr.columns, yticklabels=corr.columns)"
      ],
      "metadata": {
        "colab": {
          "base_uri": "https://localhost:8080/",
          "height": 359
        },
        "id": "gYmyklyFQDeq",
        "outputId": "c9a604ee-bb67-4da0-941e-3509a9da1728"
      },
      "execution_count": 6,
      "outputs": [
        {
          "output_type": "stream",
          "name": "stdout",
          "text": [
            "                        age  avg_glucose_level       bmi\n",
            "age                1.000000           0.238323  0.324211\n",
            "avg_glucose_level  0.238323           1.000000  0.167033\n",
            "bmi                0.324211           0.167033  1.000000\n"
          ]
        },
        {
          "output_type": "execute_result",
          "data": {
            "text/plain": [
              "<matplotlib.axes._subplots.AxesSubplot at 0x7fbe6815ad90>"
            ]
          },
          "metadata": {},
          "execution_count": 6
        },
        {
          "output_type": "display_data",
          "data": {
            "text/plain": [
              "<Figure size 432x288 with 2 Axes>"
            ],
            "image/png": "[encoded data removed]"
          },
          "metadata": {
            "needs_background": "light"
          }
        }
      ]
    },
    {
      "cell_type": "code",
      "source": [
        "# Part 1 continued\n",
        "# Draw a side-by-side box plot to detect if a categorical variable is correlated with a numerical variable\n",
        "\n",
        "## age vs. stroke\n",
        "\n",
        "x_var = 'stroke'\n",
        "y_var = 'age'\n",
        "df4ssb = df_sample4\n",
        "\n",
        "# Generate the side-by-side box plot. ax is the side-by-side boxplot object\n",
        "ax = df4ssb.boxplot(column=y_var, by=x_var, figsize=(6,5), grid=False)\n",
        "# Set the label on the y-axis using set_ylabel method of the object ax\n",
        "ax.set_ylabel(y_var)\n",
        "# ax.get_figure().suptitle('Stroke vs. Age')"
      ],
      "metadata": {
        "colab": {
          "base_uri": "https://localhost:8080/",
          "height": 435
        },
        "id": "hosv0-d_QPPz",
        "outputId": "3255cdc3-d28f-4667-808f-b4c8f4198d86"
      },
      "execution_count": 7,
      "outputs": [
        {
          "output_type": "stream",
          "name": "stderr",
          "text": [
            "/usr/local/lib/python3.8/dist-packages/matplotlib/cbook/__init__.py:1376: VisibleDeprecationWarning: Creating an ndarray from ragged nested sequences (which is a list-or-tuple of lists-or-tuples-or ndarrays with different lengths or shapes) is deprecated. If you meant to do this, you must specify 'dtype=object' when creating the ndarray.\n",
            "  X = np.atleast_1d(X.T if isinstance(X, np.ndarray) else np.asarray(X))\n"
          ]
        },
        {
          "output_type": "execute_result",
          "data": {
            "text/plain": [
              "Text(0, 0.5, 'age')"
            ]
          },
          "metadata": {},
          "execution_count": 7
        },
        {
          "output_type": "display_data",
          "data": {
            "text/plain": [
              "<Figure size 432x360 with 1 Axes>"
            ],
            "image/png": "[encoded data removed]"
          },
          "metadata": {
            "needs_background": "light"
          }
        }
      ]
    },
    {
      "cell_type": "code",
      "source": [
        "# Part 1 continued\n",
        "# Draw a side-by-side box plot to detect if a categorical variable is correlated with a numerical variable\n",
        "\n",
        "## avg_glucose_level vs. stroke\n",
        "\n",
        "x_var = 'stroke'\n",
        "y_var = 'avg_glucose_level'\n",
        "df4ssb = df_sample4\n",
        "\n",
        "# Generate the side-by-side box plot. ax is the side-by-side boxplot object\n",
        "ax = df4ssb.boxplot(column=y_var, by=x_var, figsize=(6,5), grid=False)\n",
        "# Set the label on the y-axis using set_ylabel method of the object ax\n",
        "ax.set_ylabel(y_var)\n"
      ],
      "metadata": {
        "colab": {
          "base_uri": "https://localhost:8080/",
          "height": 435
        },
        "id": "Q2mzlctHQPsv",
        "outputId": "d5a021e9-1318-40c3-ed52-6144290b87b8"
      },
      "execution_count": 8,
      "outputs": [
        {
          "output_type": "stream",
          "name": "stderr",
          "text": [
            "/usr/local/lib/python3.8/dist-packages/matplotlib/cbook/__init__.py:1376: VisibleDeprecationWarning: Creating an ndarray from ragged nested sequences (which is a list-or-tuple of lists-or-tuples-or ndarrays with different lengths or shapes) is deprecated. If you meant to do this, you must specify 'dtype=object' when creating the ndarray.\n",
            "  X = np.atleast_1d(X.T if isinstance(X, np.ndarray) else np.asarray(X))\n"
          ]
        },
        {
          "output_type": "execute_result",
          "data": {
            "text/plain": [
              "Text(0, 0.5, 'avg_glucose_level')"
            ]
          },
          "metadata": {},
          "execution_count": 8
        },
        {
          "output_type": "display_data",
          "data": {
            "text/plain": [
              "<Figure size 432x360 with 1 Axes>"
            ],
            "image/png": "[encoded data removed]"
          },
          "metadata": {
            "needs_background": "light"
          }
        }
      ]
    },
    {
      "cell_type": "code",
      "source": [
        "# Part 1 continued\n",
        "# Draw a side-by-side box plot to detect if a categorical variable is correlated with a numerical variable\n",
        "\n",
        "## bmi vs. stroke\n",
        "\n",
        "x_var = 'stroke'\n",
        "y_var = 'bmi'\n",
        "df4ssb = df_sample4\n",
        "\n",
        "# Generate the side-by-side box plot. ax is the side-by-side boxplot object\n",
        "ax = df4ssb.boxplot(column=y_var, by=x_var, figsize=(6,5), grid=False)\n",
        "# Set the label on the y-axis using set_ylabel method of the object ax\n",
        "ax.set_ylabel(y_var)"
      ],
      "metadata": {
        "colab": {
          "base_uri": "https://localhost:8080/",
          "height": 435
        },
        "id": "Qy7egfCwQP12",
        "outputId": "be6e79d1-b01f-427a-e2da-6cc2dab6a417"
      },
      "execution_count": 9,
      "outputs": [
        {
          "output_type": "stream",
          "name": "stderr",
          "text": [
            "/usr/local/lib/python3.8/dist-packages/matplotlib/cbook/__init__.py:1376: VisibleDeprecationWarning: Creating an ndarray from ragged nested sequences (which is a list-or-tuple of lists-or-tuples-or ndarrays with different lengths or shapes) is deprecated. If you meant to do this, you must specify 'dtype=object' when creating the ndarray.\n",
            "  X = np.atleast_1d(X.T if isinstance(X, np.ndarray) else np.asarray(X))\n"
          ]
        },
        {
          "output_type": "execute_result",
          "data": {
            "text/plain": [
              "Text(0, 0.5, 'bmi')"
            ]
          },
          "metadata": {},
          "execution_count": 9
        },
        {
          "output_type": "display_data",
          "data": {
            "text/plain": [
              "<Figure size 432x360 with 1 Axes>"
            ],
            "image/png": "[encoded data removed]"
          },
          "metadata": {
            "needs_background": "light"
          }
        }
      ]
    },
    {
      "cell_type": "code",
      "source": [
        "# Part 1 continued\n",
        "# chi-square test: gender vs. stroke\n",
        "rp.summary_cat(df_sample4[['gender', 'stroke']])"
      ],
      "metadata": {
        "colab": {
          "base_uri": "https://localhost:8080/",
          "height": 175
        },
        "id": "QrkAgQ3KSZMT",
        "outputId": "11365bf0-15a1-4464-ad53-7e85e45c155b"
      },
      "execution_count": 10,
      "outputs": [
        {
          "output_type": "execute_result",
          "data": {
            "text/plain": [
              "  Variable Outcome  Count  Percent\n",
              "0   gender  Female   2994    58.60\n",
              "1             Male   2115    41.40\n",
              "2   stroke       0   4860    95.13\n",
              "3                1    249     4.87"
            ],
            "text/html": [
              "\n",
              "  <div id=\"df-83ebbe6e-072e-4ee5-9818-b4ff18f27a99\">\n",
              "    <div class=\"colab-df-container\">\n",
              "      <div>\n",
              "<style scoped>\n",
              "    .dataframe tbody tr th:only-of-type {\n",
              "        vertical-align: middle;\n",
              "    }\n",
              "\n",
              "    .dataframe tbody tr th {\n",
              "        vertical-align: top;\n",
              "    }\n",
              "\n",
              "    .dataframe thead th {\n",
              "        text-align: right;\n",
              "    }\n",
              "</style>\n",
              "<table border=\"1\" class=\"dataframe\">\n",
              "  <thead>\n",
              "    <tr style=\"text-align: right;\">\n",
              "      <th></th>\n",
              "      <th>Variable</th>\n",
              "      <th>Outcome</th>\n",
              "      <th>Count</th>\n",
              "      <th>Percent</th>\n",
              "    </tr>\n",
              "  </thead>\n",
              "  <tbody>\n",
              "    <tr>\n",
              "      <th>0</th>\n",
              "      <td>gender</td>\n",
              "      <td>Female</td>\n",
              "      <td>2994</td>\n",
              "      <td>58.60</td>\n",
              "    </tr>\n",
              "    <tr>\n",
              "      <th>1</th>\n",
              "      <td></td>\n",
              "      <td>Male</td>\n",
              "      <td>2115</td>\n",
              "      <td>41.40</td>\n",
              "    </tr>\n",
              "    <tr>\n",
              "      <th>2</th>\n",
              "      <td>stroke</td>\n",
              "      <td>0</td>\n",
              "      <td>4860</td>\n",
              "      <td>95.13</td>\n",
              "    </tr>\n",
              "    <tr>\n",
              "      <th>3</th>\n",
              "      <td></td>\n",
              "      <td>1</td>\n",
              "      <td>249</td>\n",
              "      <td>4.87</td>\n",
              "    </tr>\n",
              "  </tbody>\n",
              "</table>\n",
              "</div>\n",
              "      <button class=\"colab-df-convert\" onclick=\"convertToInteractive('df-83ebbe6e-072e-4ee5-9818-b4ff18f27a99')\"\n",
              "              title=\"Convert this dataframe to an interactive table.\"\n",
              "              style=\"display:none;\">\n",
              "        \n",
              "  <svg xmlns=\"http://www.w3.org/2000/svg\" height=\"24px\"viewBox=\"0 0 24 24\"\n",
              "       width=\"24px\">\n",
              "    <path d=\"M0 0h24v24H0V0z\" fill=\"none\"/>\n",
              "    <path d=\"M18.56 5.44l.94 2.06.94-2.06 2.06-.94-2.06-.94-.94-2.06-.94 2.06-2.06.94zm-11 1L8.5 8.5l.94-2.06 2.06-.94-2.06-.94L8.5 2.5l-.94 2.06-2.06.94zm10 10l.94 2.06.94-2.06 2.06-.94-2.06-.94-.94-2.06-.94 2.06-2.06.94z\"/><path d=\"M17.41 7.96l-1.37-1.37c-.4-.4-.92-.59-1.43-.59-.52 0-1.04.2-1.43.59L10.3 9.45l-7.72 7.72c-.78.78-.78 2.05 0 2.83L4 21.41c.39.39.9.59 1.41.59.51 0 1.02-.2 1.41-.59l7.78-7.78 2.81-2.81c.8-.78.8-2.07 0-2.86zM5.41 20L4 18.59l7.72-7.72 1.47 1.35L5.41 20z\"/>\n",
              "  </svg>\n",
              "      </button>\n",
              "      \n",
              "  <style>\n",
              "    .colab-df-container {\n",
              "      display:flex;\n",
              "      flex-wrap:wrap;\n",
              "      gap: 12px;\n",
              "    }\n",
              "\n",
              "    .colab-df-convert {\n",
              "      background-color: #E8F0FE;\n",
              "      border: none;\n",
              "      border-radius: 50%;\n",
              "      cursor: pointer;\n",
              "      display: none;\n",
              "      fill: #1967D2;\n",
              "      height: 32px;\n",
              "      padding: 0 0 0 0;\n",
              "      width: 32px;\n",
              "    }\n",
              "\n",
              "    .colab-df-convert:hover {\n",
              "      background-color: #E2EBFA;\n",
              "      box-shadow: 0px 1px 2px rgba(60, 64, 67, 0.3), 0px 1px 3px 1px rgba(60, 64, 67, 0.15);\n",
              "      fill: #174EA6;\n",
              "    }\n",
              "\n",
              "    [theme=dark] .colab-df-convert {\n",
              "      background-color: #3B4455;\n",
              "      fill: #D2E3FC;\n",
              "    }\n",
              "\n",
              "    [theme=dark] .colab-df-convert:hover {\n",
              "      background-color: #434B5C;\n",
              "      box-shadow: 0px 1px 3px 1px rgba(0, 0, 0, 0.15);\n",
              "      filter: drop-shadow(0px 1px 2px rgba(0, 0, 0, 0.3));\n",
              "      fill: #FFFFFF;\n",
              "    }\n",
              "  </style>\n",
              "\n",
              "      <script>\n",
              "        const buttonEl =\n",
              "          document.querySelector('#df-83ebbe6e-072e-4ee5-9818-b4ff18f27a99 button.colab-df-convert');\n",
              "        buttonEl.style.display =\n",
              "          google.colab.kernel.accessAllowed ? 'block' : 'none';\n",
              "\n",
              "        async function convertToInteractive(key) {\n",
              "          const element = document.querySelector('#df-83ebbe6e-072e-4ee5-9818-b4ff18f27a99');\n",
              "          const dataTable =\n",
              "            await google.colab.kernel.invokeFunction('convertToInteractive',\n",
              "                                                     [key], {});\n",
              "          if (!dataTable) return;\n",
              "\n",
              "          const docLinkHtml = 'Like what you see? Visit the ' +\n",
              "            '<a target=\"_blank\" href=https://colab.research.google.com/notebooks/data_table.ipynb>data table notebook</a>'\n",
              "            + ' to learn more about interactive tables.';\n",
              "          element.innerHTML = '';\n",
              "          dataTable['output_type'] = 'display_data';\n",
              "          await google.colab.output.renderOutput(dataTable, element);\n",
              "          const docLink = document.createElement('div');\n",
              "          docLink.innerHTML = docLinkHtml;\n",
              "          element.appendChild(docLink);\n",
              "        }\n",
              "      </script>\n",
              "    </div>\n",
              "  </div>\n",
              "  "
            ]
          },
          "metadata": {},
          "execution_count": 10
        }
      ]
    },
    {
      "cell_type": "code",
      "source": [
        "# Part 1 continued\n",
        "crosstab = pd.crosstab(df_sample4['gender'], df_sample4['stroke'])\n",
        "crosstab"
      ],
      "metadata": {
        "colab": {
          "base_uri": "https://localhost:8080/",
          "height": 143
        },
        "id": "IDv2KufuScon",
        "outputId": "b844e735-5dce-4b14-89b7-9a4422fa655f"
      },
      "execution_count": 11,
      "outputs": [
        {
          "output_type": "execute_result",
          "data": {
            "text/plain": [
              "stroke     0    1\n",
              "gender           \n",
              "Female  2853  141\n",
              "Male    2007  108"
            ],
            "text/html": [
              "\n",
              "  <div id=\"df-4ecbfcc7-6a0c-4b6f-8336-08bce1bc397d\">\n",
              "    <div class=\"colab-df-container\">\n",
              "      <div>\n",
              "<style scoped>\n",
              "    .dataframe tbody tr th:only-of-type {\n",
              "        vertical-align: middle;\n",
              "    }\n",
              "\n",
              "    .dataframe tbody tr th {\n",
              "        vertical-align: top;\n",
              "    }\n",
              "\n",
              "    .dataframe thead th {\n",
              "        text-align: right;\n",
              "    }\n",
              "</style>\n",
              "<table border=\"1\" class=\"dataframe\">\n",
              "  <thead>\n",
              "    <tr style=\"text-align: right;\">\n",
              "      <th>stroke</th>\n",
              "      <th>0</th>\n",
              "      <th>1</th>\n",
              "    </tr>\n",
              "    <tr>\n",
              "      <th>gender</th>\n",
              "      <th></th>\n",
              "      <th></th>\n",
              "    </tr>\n",
              "  </thead>\n",
              "  <tbody>\n",
              "    <tr>\n",
              "      <th>Female</th>\n",
              "      <td>2853</td>\n",
              "      <td>141</td>\n",
              "    </tr>\n",
              "    <tr>\n",
              "      <th>Male</th>\n",
              "      <td>2007</td>\n",
              "      <td>108</td>\n",
              "    </tr>\n",
              "  </tbody>\n",
              "</table>\n",
              "</div>\n",
              "      <button class=\"colab-df-convert\" onclick=\"convertToInteractive('df-4ecbfcc7-6a0c-4b6f-8336-08bce1bc397d')\"\n",
              "              title=\"Convert this dataframe to an interactive table.\"\n",
              "              style=\"display:none;\">\n",
              "        \n",
              "  <svg xmlns=\"http://www.w3.org/2000/svg\" height=\"24px\"viewBox=\"0 0 24 24\"\n",
              "       width=\"24px\">\n",
              "    <path d=\"M0 0h24v24H0V0z\" fill=\"none\"/>\n",
              "    <path d=\"M18.56 5.44l.94 2.06.94-2.06 2.06-.94-2.06-.94-.94-2.06-.94 2.06-2.06.94zm-11 1L8.5 8.5l.94-2.06 2.06-.94-2.06-.94L8.5 2.5l-.94 2.06-2.06.94zm10 10l.94 2.06.94-2.06 2.06-.94-2.06-.94-.94-2.06-.94 2.06-2.06.94z\"/><path d=\"M17.41 7.96l-1.37-1.37c-.4-.4-.92-.59-1.43-.59-.52 0-1.04.2-1.43.59L10.3 9.45l-7.72 7.72c-.78.78-.78 2.05 0 2.83L4 21.41c.39.39.9.59 1.41.59.51 0 1.02-.2 1.41-.59l7.78-7.78 2.81-2.81c.8-.78.8-2.07 0-2.86zM5.41 20L4 18.59l7.72-7.72 1.47 1.35L5.41 20z\"/>\n",
              "  </svg>\n",
              "      </button>\n",
              "      \n",
              "  <style>\n",
              "    .colab-df-container {\n",
              "      display:flex;\n",
              "      flex-wrap:wrap;\n",
              "      gap: 12px;\n",
              "    }\n",
              "\n",
              "    .colab-df-convert {\n",
              "      background-color: #E8F0FE;\n",
              "      border: none;\n",
              "      border-radius: 50%;\n",
              "      cursor: pointer;\n",
              "      display: none;\n",
              "      fill: #1967D2;\n",
              "      height: 32px;\n",
              "      padding: 0 0 0 0;\n",
              "      width: 32px;\n",
              "    }\n",
              "\n",
              "    .colab-df-convert:hover {\n",
              "      background-color: #E2EBFA;\n",
              "      box-shadow: 0px 1px 2px rgba(60, 64, 67, 0.3), 0px 1px 3px 1px rgba(60, 64, 67, 0.15);\n",
              "      fill: #174EA6;\n",
              "    }\n",
              "\n",
              "    [theme=dark] .colab-df-convert {\n",
              "      background-color: #3B4455;\n",
              "      fill: #D2E3FC;\n",
              "    }\n",
              "\n",
              "    [theme=dark] .colab-df-convert:hover {\n",
              "      background-color: #434B5C;\n",
              "      box-shadow: 0px 1px 3px 1px rgba(0, 0, 0, 0.15);\n",
              "      filter: drop-shadow(0px 1px 2px rgba(0, 0, 0, 0.3));\n",
              "      fill: #FFFFFF;\n",
              "    }\n",
              "  </style>\n",
              "\n",
              "      <script>\n",
              "        const buttonEl =\n",
              "          document.querySelector('#df-4ecbfcc7-6a0c-4b6f-8336-08bce1bc397d button.colab-df-convert');\n",
              "        buttonEl.style.display =\n",
              "          google.colab.kernel.accessAllowed ? 'block' : 'none';\n",
              "\n",
              "        async function convertToInteractive(key) {\n",
              "          const element = document.querySelector('#df-4ecbfcc7-6a0c-4b6f-8336-08bce1bc397d');\n",
              "          const dataTable =\n",
              "            await google.colab.kernel.invokeFunction('convertToInteractive',\n",
              "                                                     [key], {});\n",
              "          if (!dataTable) return;\n",
              "\n",
              "          const docLinkHtml = 'Like what you see? Visit the ' +\n",
              "            '<a target=\"_blank\" href=https://colab.research.google.com/notebooks/data_table.ipynb>data table notebook</a>'\n",
              "            + ' to learn more about interactive tables.';\n",
              "          element.innerHTML = '';\n",
              "          dataTable['output_type'] = 'display_data';\n",
              "          await google.colab.output.renderOutput(dataTable, element);\n",
              "          const docLink = document.createElement('div');\n",
              "          docLink.innerHTML = docLinkHtml;\n",
              "          element.appendChild(docLink);\n",
              "        }\n",
              "      </script>\n",
              "    </div>\n",
              "  </div>\n",
              "  "
            ]
          },
          "metadata": {},
          "execution_count": 11
        }
      ]
    },
    {
      "cell_type": "code",
      "source": [
        "# Part 1 continued\n",
        "# (chi-square value, p-value, degree of freedom, expected frequencies)\n",
        "stats.chi2_contingency(crosstab)"
      ],
      "metadata": {
        "colab": {
          "base_uri": "https://localhost:8080/"
        },
        "id": "7RmWeW1IScy5",
        "outputId": "b0c6d7dc-5b7a-4535-932d-eefda57b3341"
      },
      "execution_count": 12,
      "outputs": [
        {
          "output_type": "execute_result",
          "data": {
            "text/plain": [
              "(0.340002536046177,\n",
              " 0.5598277580669416,\n",
              " 1,\n",
              " array([[2848.07985907,  145.92014093],\n",
              "        [2011.92014093,  103.07985907]]))"
            ]
          },
          "metadata": {},
          "execution_count": 12
        }
      ]
    },
    {
      "cell_type": "code",
      "source": [
        "# Part 1 continued\n",
        "# chi-square test: hypertension vs. stroke\n",
        "crosstab = pd.crosstab(df_sample4['hypertension'], df_sample4['stroke'])\n",
        "crosstab"
      ],
      "metadata": {
        "colab": {
          "base_uri": "https://localhost:8080/",
          "height": 143
        },
        "id": "_PK8ixaKSc6V",
        "outputId": "903a2d85-0ff1-4787-cbf5-b91425039ddb"
      },
      "execution_count": 13,
      "outputs": [
        {
          "output_type": "execute_result",
          "data": {
            "text/plain": [
              "stroke           0    1\n",
              "hypertension           \n",
              "0             4428  183\n",
              "1              432   66"
            ],
            "text/html": [
              "\n",
              "  <div id=\"df-ed249f44-c403-49e4-a0a7-b9e8775c2f6e\">\n",
              "    <div class=\"colab-df-container\">\n",
              "      <div>\n",
              "<style scoped>\n",
              "    .dataframe tbody tr th:only-of-type {\n",
              "        vertical-align: middle;\n",
              "    }\n",
              "\n",
              "    .dataframe tbody tr th {\n",
              "        vertical-align: top;\n",
              "    }\n",
              "\n",
              "    .dataframe thead th {\n",
              "        text-align: right;\n",
              "    }\n",
              "</style>\n",
              "<table border=\"1\" class=\"dataframe\">\n",
              "  <thead>\n",
              "    <tr style=\"text-align: right;\">\n",
              "      <th>stroke</th>\n",
              "      <th>0</th>\n",
              "      <th>1</th>\n",
              "    </tr>\n",
              "    <tr>\n",
              "      <th>hypertension</th>\n",
              "      <th></th>\n",
              "      <th></th>\n",
              "    </tr>\n",
              "  </thead>\n",
              "  <tbody>\n",
              "    <tr>\n",
              "      <th>0</th>\n",
              "      <td>4428</td>\n",
              "      <td>183</td>\n",
              "    </tr>\n",
              "    <tr>\n",
              "      <th>1</th>\n",
              "      <td>432</td>\n",
              "      <td>66</td>\n",
              "    </tr>\n",
              "  </tbody>\n",
              "</table>\n",
              "</div>\n",
              "      <button class=\"colab-df-convert\" onclick=\"convertToInteractive('df-ed249f44-c403-49e4-a0a7-b9e8775c2f6e')\"\n",
              "              title=\"Convert this dataframe to an interactive table.\"\n",
              "              style=\"display:none;\">\n",
              "        \n",
              "  <svg xmlns=\"http://www.w3.org/2000/svg\" height=\"24px\"viewBox=\"0 0 24 24\"\n",
              "       width=\"24px\">\n",
              "    <path d=\"M0 0h24v24H0V0z\" fill=\"none\"/>\n",
              "    <path d=\"M18.56 5.44l.94 2.06.94-2.06 2.06-.94-2.06-.94-.94-2.06-.94 2.06-2.06.94zm-11 1L8.5 8.5l.94-2.06 2.06-.94-2.06-.94L8.5 2.5l-.94 2.06-2.06.94zm10 10l.94 2.06.94-2.06 2.06-.94-2.06-.94-.94-2.06-.94 2.06-2.06.94z\"/><path d=\"M17.41 7.96l-1.37-1.37c-.4-.4-.92-.59-1.43-.59-.52 0-1.04.2-1.43.59L10.3 9.45l-7.72 7.72c-.78.78-.78 2.05 0 2.83L4 21.41c.39.39.9.59 1.41.59.51 0 1.02-.2 1.41-.59l7.78-7.78 2.81-2.81c.8-.78.8-2.07 0-2.86zM5.41 20L4 18.59l7.72-7.72 1.47 1.35L5.41 20z\"/>\n",
              "  </svg>\n",
              "      </button>\n",
              "      \n",
              "  <style>\n",
              "    .colab-df-container {\n",
              "      display:flex;\n",
              "      flex-wrap:wrap;\n",
              "      gap: 12px;\n",
              "    }\n",
              "\n",
              "    .colab-df-convert {\n",
              "      background-color: #E8F0FE;\n",
              "      border: none;\n",
              "      border-radius: 50%;\n",
              "      cursor: pointer;\n",
              "      display: none;\n",
              "      fill: #1967D2;\n",
              "      height: 32px;\n",
              "      padding: 0 0 0 0;\n",
              "      width: 32px;\n",
              "    }\n",
              "\n",
              "    .colab-df-convert:hover {\n",
              "      background-color: #E2EBFA;\n",
              "      box-shadow: 0px 1px 2px rgba(60, 64, 67, 0.3), 0px 1px 3px 1px rgba(60, 64, 67, 0.15);\n",
              "      fill: #174EA6;\n",
              "    }\n",
              "\n",
              "    [theme=dark] .colab-df-convert {\n",
              "      background-color: #3B4455;\n",
              "      fill: #D2E3FC;\n",
              "    }\n",
              "\n",
              "    [theme=dark] .colab-df-convert:hover {\n",
              "      background-color: #434B5C;\n",
              "      box-shadow: 0px 1px 3px 1px rgba(0, 0, 0, 0.15);\n",
              "      filter: drop-shadow(0px 1px 2px rgba(0, 0, 0, 0.3));\n",
              "      fill: #FFFFFF;\n",
              "    }\n",
              "  </style>\n",
              "\n",
              "      <script>\n",
              "        const buttonEl =\n",
              "          document.querySelector('#df-ed249f44-c403-49e4-a0a7-b9e8775c2f6e button.colab-df-convert');\n",
              "        buttonEl.style.display =\n",
              "          google.colab.kernel.accessAllowed ? 'block' : 'none';\n",
              "\n",
              "        async function convertToInteractive(key) {\n",
              "          const element = document.querySelector('#df-ed249f44-c403-49e4-a0a7-b9e8775c2f6e');\n",
              "          const dataTable =\n",
              "            await google.colab.kernel.invokeFunction('convertToInteractive',\n",
              "                                                     [key], {});\n",
              "          if (!dataTable) return;\n",
              "\n",
              "          const docLinkHtml = 'Like what you see? Visit the ' +\n",
              "            '<a target=\"_blank\" href=https://colab.research.google.com/notebooks/data_table.ipynb>data table notebook</a>'\n",
              "            + ' to learn more about interactive tables.';\n",
              "          element.innerHTML = '';\n",
              "          dataTable['output_type'] = 'display_data';\n",
              "          await google.colab.output.renderOutput(dataTable, element);\n",
              "          const docLink = document.createElement('div');\n",
              "          docLink.innerHTML = docLinkHtml;\n",
              "          element.appendChild(docLink);\n",
              "        }\n",
              "      </script>\n",
              "    </div>\n",
              "  </div>\n",
              "  "
            ]
          },
          "metadata": {},
          "execution_count": 13
        }
      ]
    },
    {
      "cell_type": "code",
      "source": [
        "# Part 1 continued\n",
        "stats.chi2_contingency(crosstab)"
      ],
      "metadata": {
        "colab": {
          "base_uri": "https://localhost:8080/"
        },
        "id": "Qgp7N4TSSmgc",
        "outputId": "031d5e9d-e4c4-46d4-db39-c8d3bfaadffa"
      },
      "execution_count": 14,
      "outputs": [
        {
          "output_type": "execute_result",
          "data": {
            "text/plain": [
              "(81.57314462043591,\n",
              " 1.688936253410575e-19,\n",
              " 1,\n",
              " array([[4386.27128597,  224.72871403],\n",
              "        [ 473.72871403,   24.27128597]]))"
            ]
          },
          "metadata": {},
          "execution_count": 14
        }
      ]
    },
    {
      "cell_type": "code",
      "source": [
        "# Part 1 continued\n",
        "# chi-square test: heart_disease vs. stroke\n",
        "crosstab = pd.crosstab(df_sample4['heart_disease'], df_sample4['stroke'])\n",
        "crosstab"
      ],
      "metadata": {
        "colab": {
          "base_uri": "https://localhost:8080/",
          "height": 143
        },
        "id": "rPsxYsvpSmj9",
        "outputId": "8b285572-59e2-4a4d-c709-faf28b5498f3"
      },
      "execution_count": 15,
      "outputs": [
        {
          "output_type": "execute_result",
          "data": {
            "text/plain": [
              "stroke            0    1\n",
              "heart_disease           \n",
              "0              4631  202\n",
              "1               229   47"
            ],
            "text/html": [
              "\n",
              "  <div id=\"df-d955d8e4-b600-4849-bcc0-3955cde269cf\">\n",
              "    <div class=\"colab-df-container\">\n",
              "      <div>\n",
              "<style scoped>\n",
              "    .dataframe tbody tr th:only-of-type {\n",
              "        vertical-align: middle;\n",
              "    }\n",
              "\n",
              "    .dataframe tbody tr th {\n",
              "        vertical-align: top;\n",
              "    }\n",
              "\n",
              "    .dataframe thead th {\n",
              "        text-align: right;\n",
              "    }\n",
              "</style>\n",
              "<table border=\"1\" class=\"dataframe\">\n",
              "  <thead>\n",
              "    <tr style=\"text-align: right;\">\n",
              "      <th>stroke</th>\n",
              "      <th>0</th>\n",
              "      <th>1</th>\n",
              "    </tr>\n",
              "    <tr>\n",
              "      <th>heart_disease</th>\n",
              "      <th></th>\n",
              "      <th></th>\n",
              "    </tr>\n",
              "  </thead>\n",
              "  <tbody>\n",
              "    <tr>\n",
              "      <th>0</th>\n",
              "      <td>4631</td>\n",
              "      <td>202</td>\n",
              "    </tr>\n",
              "    <tr>\n",
              "      <th>1</th>\n",
              "      <td>229</td>\n",
              "      <td>47</td>\n",
              "    </tr>\n",
              "  </tbody>\n",
              "</table>\n",
              "</div>\n",
              "      <button class=\"colab-df-convert\" onclick=\"convertToInteractive('df-d955d8e4-b600-4849-bcc0-3955cde269cf')\"\n",
              "              title=\"Convert this dataframe to an interactive table.\"\n",
              "              style=\"display:none;\">\n",
              "        \n",
              "  <svg xmlns=\"http://www.w3.org/2000/svg\" height=\"24px\"viewBox=\"0 0 24 24\"\n",
              "       width=\"24px\">\n",
              "    <path d=\"M0 0h24v24H0V0z\" fill=\"none\"/>\n",
              "    <path d=\"M18.56 5.44l.94 2.06.94-2.06 2.06-.94-2.06-.94-.94-2.06-.94 2.06-2.06.94zm-11 1L8.5 8.5l.94-2.06 2.06-.94-2.06-.94L8.5 2.5l-.94 2.06-2.06.94zm10 10l.94 2.06.94-2.06 2.06-.94-2.06-.94-.94-2.06-.94 2.06-2.06.94z\"/><path d=\"M17.41 7.96l-1.37-1.37c-.4-.4-.92-.59-1.43-.59-.52 0-1.04.2-1.43.59L10.3 9.45l-7.72 7.72c-.78.78-.78 2.05 0 2.83L4 21.41c.39.39.9.59 1.41.59.51 0 1.02-.2 1.41-.59l7.78-7.78 2.81-2.81c.8-.78.8-2.07 0-2.86zM5.41 20L4 18.59l7.72-7.72 1.47 1.35L5.41 20z\"/>\n",
              "  </svg>\n",
              "      </button>\n",
              "      \n",
              "  <style>\n",
              "    .colab-df-container {\n",
              "      display:flex;\n",
              "      flex-wrap:wrap;\n",
              "      gap: 12px;\n",
              "    }\n",
              "\n",
              "    .colab-df-convert {\n",
              "      background-color: #E8F0FE;\n",
              "      border: none;\n",
              "      border-radius: 50%;\n",
              "      cursor: pointer;\n",
              "      display: none;\n",
              "      fill: #1967D2;\n",
              "      height: 32px;\n",
              "      padding: 0 0 0 0;\n",
              "      width: 32px;\n",
              "    }\n",
              "\n",
              "    .colab-df-convert:hover {\n",
              "      background-color: #E2EBFA;\n",
              "      box-shadow: 0px 1px 2px rgba(60, 64, 67, 0.3), 0px 1px 3px 1px rgba(60, 64, 67, 0.15);\n",
              "      fill: #174EA6;\n",
              "    }\n",
              "\n",
              "    [theme=dark] .colab-df-convert {\n",
              "      background-color: #3B4455;\n",
              "      fill: #D2E3FC;\n",
              "    }\n",
              "\n",
              "    [theme=dark] .colab-df-convert:hover {\n",
              "      background-color: #434B5C;\n",
              "      box-shadow: 0px 1px 3px 1px rgba(0, 0, 0, 0.15);\n",
              "      filter: drop-shadow(0px 1px 2px rgba(0, 0, 0, 0.3));\n",
              "      fill: #FFFFFF;\n",
              "    }\n",
              "  </style>\n",
              "\n",
              "      <script>\n",
              "        const buttonEl =\n",
              "          document.querySelector('#df-d955d8e4-b600-4849-bcc0-3955cde269cf button.colab-df-convert');\n",
              "        buttonEl.style.display =\n",
              "          google.colab.kernel.accessAllowed ? 'block' : 'none';\n",
              "\n",
              "        async function convertToInteractive(key) {\n",
              "          const element = document.querySelector('#df-d955d8e4-b600-4849-bcc0-3955cde269cf');\n",
              "          const dataTable =\n",
              "            await google.colab.kernel.invokeFunction('convertToInteractive',\n",
              "                                                     [key], {});\n",
              "          if (!dataTable) return;\n",
              "\n",
              "          const docLinkHtml = 'Like what you see? Visit the ' +\n",
              "            '<a target=\"_blank\" href=https://colab.research.google.com/notebooks/data_table.ipynb>data table notebook</a>'\n",
              "            + ' to learn more about interactive tables.';\n",
              "          element.innerHTML = '';\n",
              "          dataTable['output_type'] = 'display_data';\n",
              "          await google.colab.output.renderOutput(dataTable, element);\n",
              "          const docLink = document.createElement('div');\n",
              "          docLink.innerHTML = docLinkHtml;\n",
              "          element.appendChild(docLink);\n",
              "        }\n",
              "      </script>\n",
              "    </div>\n",
              "  </div>\n",
              "  "
            ]
          },
          "metadata": {},
          "execution_count": 15
        }
      ]
    },
    {
      "cell_type": "code",
      "source": [
        "# Part 1 continued\n",
        "stats.chi2_contingency(crosstab)"
      ],
      "metadata": {
        "colab": {
          "base_uri": "https://localhost:8080/"
        },
        "id": "cxuLgbx5Smmf",
        "outputId": "08000ab7-dd28-47d1-b5c3-89cacccea458"
      },
      "execution_count": 16,
      "outputs": [
        {
          "output_type": "execute_result",
          "data": {
            "text/plain": [
              "(90.22943664078221,\n",
              " 2.120831133146208e-21,\n",
              " 1,\n",
              " array([[4597.45155608,  235.54844392],\n",
              "        [ 262.54844392,   13.45155608]]))"
            ]
          },
          "metadata": {},
          "execution_count": 16
        }
      ]
    },
    {
      "cell_type": "code",
      "source": [
        "# Part 1 continued\n",
        "# chi-square test: ever_married vs. stroke\n",
        "crosstab = pd.crosstab(df_sample4['ever_married'], df_sample4['stroke'])\n",
        "crosstab"
      ],
      "metadata": {
        "colab": {
          "base_uri": "https://localhost:8080/",
          "height": 143
        },
        "id": "74otKmnUSmoq",
        "outputId": "938ecc49-71c8-4e99-df29-6db4adfd5676"
      },
      "execution_count": 17,
      "outputs": [
        {
          "output_type": "execute_result",
          "data": {
            "text/plain": [
              "stroke           0    1\n",
              "ever_married           \n",
              "No            1727   29\n",
              "Yes           3133  220"
            ],
            "text/html": [
              "\n",
              "  <div id=\"df-bb3f7318-95d1-4f2d-92f6-3d351bae9608\">\n",
              "    <div class=\"colab-df-container\">\n",
              "      <div>\n",
              "<style scoped>\n",
              "    .dataframe tbody tr th:only-of-type {\n",
              "        vertical-align: middle;\n",
              "    }\n",
              "\n",
              "    .dataframe tbody tr th {\n",
              "        vertical-align: top;\n",
              "    }\n",
              "\n",
              "    .dataframe thead th {\n",
              "        text-align: right;\n",
              "    }\n",
              "</style>\n",
              "<table border=\"1\" class=\"dataframe\">\n",
              "  <thead>\n",
              "    <tr style=\"text-align: right;\">\n",
              "      <th>stroke</th>\n",
              "      <th>0</th>\n",
              "      <th>1</th>\n",
              "    </tr>\n",
              "    <tr>\n",
              "      <th>ever_married</th>\n",
              "      <th></th>\n",
              "      <th></th>\n",
              "    </tr>\n",
              "  </thead>\n",
              "  <tbody>\n",
              "    <tr>\n",
              "      <th>No</th>\n",
              "      <td>1727</td>\n",
              "      <td>29</td>\n",
              "    </tr>\n",
              "    <tr>\n",
              "      <th>Yes</th>\n",
              "      <td>3133</td>\n",
              "      <td>220</td>\n",
              "    </tr>\n",
              "  </tbody>\n",
              "</table>\n",
              "</div>\n",
              "      <button class=\"colab-df-convert\" onclick=\"convertToInteractive('df-bb3f7318-95d1-4f2d-92f6-3d351bae9608')\"\n",
              "              title=\"Convert this dataframe to an interactive table.\"\n",
              "              style=\"display:none;\">\n",
              "        \n",
              "  <svg xmlns=\"http://www.w3.org/2000/svg\" height=\"24px\"viewBox=\"0 0 24 24\"\n",
              "       width=\"24px\">\n",
              "    <path d=\"M0 0h24v24H0V0z\" fill=\"none\"/>\n",
              "    <path d=\"M18.56 5.44l.94 2.06.94-2.06 2.06-.94-2.06-.94-.94-2.06-.94 2.06-2.06.94zm-11 1L8.5 8.5l.94-2.06 2.06-.94-2.06-.94L8.5 2.5l-.94 2.06-2.06.94zm10 10l.94 2.06.94-2.06 2.06-.94-2.06-.94-.94-2.06-.94 2.06-2.06.94z\"/><path d=\"M17.41 7.96l-1.37-1.37c-.4-.4-.92-.59-1.43-.59-.52 0-1.04.2-1.43.59L10.3 9.45l-7.72 7.72c-.78.78-.78 2.05 0 2.83L4 21.41c.39.39.9.59 1.41.59.51 0 1.02-.2 1.41-.59l7.78-7.78 2.81-2.81c.8-.78.8-2.07 0-2.86zM5.41 20L4 18.59l7.72-7.72 1.47 1.35L5.41 20z\"/>\n",
              "  </svg>\n",
              "      </button>\n",
              "      \n",
              "  <style>\n",
              "    .colab-df-container {\n",
              "      display:flex;\n",
              "      flex-wrap:wrap;\n",
              "      gap: 12px;\n",
              "    }\n",
              "\n",
              "    .colab-df-convert {\n",
              "      background-color: #E8F0FE;\n",
              "      border: none;\n",
              "      border-radius: 50%;\n",
              "      cursor: pointer;\n",
              "      display: none;\n",
              "      fill: #1967D2;\n",
              "      height: 32px;\n",
              "      padding: 0 0 0 0;\n",
              "      width: 32px;\n",
              "    }\n",
              "\n",
              "    .colab-df-convert:hover {\n",
              "      background-color: #E2EBFA;\n",
              "      box-shadow: 0px 1px 2px rgba(60, 64, 67, 0.3), 0px 1px 3px 1px rgba(60, 64, 67, 0.15);\n",
              "      fill: #174EA6;\n",
              "    }\n",
              "\n",
              "    [theme=dark] .colab-df-convert {\n",
              "      background-color: #3B4455;\n",
              "      fill: #D2E3FC;\n",
              "    }\n",
              "\n",
              "    [theme=dark] .colab-df-convert:hover {\n",
              "      background-color: #434B5C;\n",
              "      box-shadow: 0px 1px 3px 1px rgba(0, 0, 0, 0.15);\n",
              "      filter: drop-shadow(0px 1px 2px rgba(0, 0, 0, 0.3));\n",
              "      fill: #FFFFFF;\n",
              "    }\n",
              "  </style>\n",
              "\n",
              "      <script>\n",
              "        const buttonEl =\n",
              "          document.querySelector('#df-bb3f7318-95d1-4f2d-92f6-3d351bae9608 button.colab-df-convert');\n",
              "        buttonEl.style.display =\n",
              "          google.colab.kernel.accessAllowed ? 'block' : 'none';\n",
              "\n",
              "        async function convertToInteractive(key) {\n",
              "          const element = document.querySelector('#df-bb3f7318-95d1-4f2d-92f6-3d351bae9608');\n",
              "          const dataTable =\n",
              "            await google.colab.kernel.invokeFunction('convertToInteractive',\n",
              "                                                     [key], {});\n",
              "          if (!dataTable) return;\n",
              "\n",
              "          const docLinkHtml = 'Like what you see? Visit the ' +\n",
              "            '<a target=\"_blank\" href=https://colab.research.google.com/notebooks/data_table.ipynb>data table notebook</a>'\n",
              "            + ' to learn more about interactive tables.';\n",
              "          element.innerHTML = '';\n",
              "          dataTable['output_type'] = 'display_data';\n",
              "          await google.colab.output.renderOutput(dataTable, element);\n",
              "          const docLink = document.createElement('div');\n",
              "          docLink.innerHTML = docLinkHtml;\n",
              "          element.appendChild(docLink);\n",
              "        }\n",
              "      </script>\n",
              "    </div>\n",
              "  </div>\n",
              "  "
            ]
          },
          "metadata": {},
          "execution_count": 17
        }
      ]
    },
    {
      "cell_type": "code",
      "source": [
        "# Part 1 continued\n",
        "stats.chi2_contingency(crosstab)"
      ],
      "metadata": {
        "colab": {
          "base_uri": "https://localhost:8080/"
        },
        "id": "5oOYTW2KSmq-",
        "outputId": "5fc4c109-1ae8-44be-e00b-7f5e6ef40095"
      },
      "execution_count": 18,
      "outputs": [
        {
          "output_type": "execute_result",
          "data": {
            "text/plain": [
              "(58.86780922483486,\n",
              " 1.6862856191673454e-14,\n",
              " 1,\n",
              " array([[1670.41691133,   85.58308867],\n",
              "        [3189.58308867,  163.41691133]]))"
            ]
          },
          "metadata": {},
          "execution_count": 18
        }
      ]
    },
    {
      "cell_type": "code",
      "source": [
        "# Part 1 continued\n",
        "# chi-square test: Residence_type vs. stroke\n",
        "crosstab = pd.crosstab(df_sample4['Residence_type'], df_sample4['stroke'])\n",
        "crosstab"
      ],
      "metadata": {
        "colab": {
          "base_uri": "https://localhost:8080/",
          "height": 143
        },
        "id": "TyIrrBUwSmti",
        "outputId": "9235e051-4d3d-480f-abea-ea655dc298ce"
      },
      "execution_count": 19,
      "outputs": [
        {
          "output_type": "execute_result",
          "data": {
            "text/plain": [
              "stroke             0    1\n",
              "Residence_type           \n",
              "Rural           2399  114\n",
              "Urban           2461  135"
            ],
            "text/html": [
              "\n",
              "  <div id=\"df-3cb8d302-9696-43b6-96b4-39a66cf4e861\">\n",
              "    <div class=\"colab-df-container\">\n",
              "      <div>\n",
              "<style scoped>\n",
              "    .dataframe tbody tr th:only-of-type {\n",
              "        vertical-align: middle;\n",
              "    }\n",
              "\n",
              "    .dataframe tbody tr th {\n",
              "        vertical-align: top;\n",
              "    }\n",
              "\n",
              "    .dataframe thead th {\n",
              "        text-align: right;\n",
              "    }\n",
              "</style>\n",
              "<table border=\"1\" class=\"dataframe\">\n",
              "  <thead>\n",
              "    <tr style=\"text-align: right;\">\n",
              "      <th>stroke</th>\n",
              "      <th>0</th>\n",
              "      <th>1</th>\n",
              "    </tr>\n",
              "    <tr>\n",
              "      <th>Residence_type</th>\n",
              "      <th></th>\n",
              "      <th></th>\n",
              "    </tr>\n",
              "  </thead>\n",
              "  <tbody>\n",
              "    <tr>\n",
              "      <th>Rural</th>\n",
              "      <td>2399</td>\n",
              "      <td>114</td>\n",
              "    </tr>\n",
              "    <tr>\n",
              "      <th>Urban</th>\n",
              "      <td>2461</td>\n",
              "      <td>135</td>\n",
              "    </tr>\n",
              "  </tbody>\n",
              "</table>\n",
              "</div>\n",
              "      <button class=\"colab-df-convert\" onclick=\"convertToInteractive('df-3cb8d302-9696-43b6-96b4-39a66cf4e861')\"\n",
              "              title=\"Convert this dataframe to an interactive table.\"\n",
              "              style=\"display:none;\">\n",
              "        \n",
              "  <svg xmlns=\"http://www.w3.org/2000/svg\" height=\"24px\"viewBox=\"0 0 24 24\"\n",
              "       width=\"24px\">\n",
              "    <path d=\"M0 0h24v24H0V0z\" fill=\"none\"/>\n",
              "    <path d=\"M18.56 5.44l.94 2.06.94-2.06 2.06-.94-2.06-.94-.94-2.06-.94 2.06-2.06.94zm-11 1L8.5 8.5l.94-2.06 2.06-.94-2.06-.94L8.5 2.5l-.94 2.06-2.06.94zm10 10l.94 2.06.94-2.06 2.06-.94-2.06-.94-.94-2.06-.94 2.06-2.06.94z\"/><path d=\"M17.41 7.96l-1.37-1.37c-.4-.4-.92-.59-1.43-.59-.52 0-1.04.2-1.43.59L10.3 9.45l-7.72 7.72c-.78.78-.78 2.05 0 2.83L4 21.41c.39.39.9.59 1.41.59.51 0 1.02-.2 1.41-.59l7.78-7.78 2.81-2.81c.8-.78.8-2.07 0-2.86zM5.41 20L4 18.59l7.72-7.72 1.47 1.35L5.41 20z\"/>\n",
              "  </svg>\n",
              "      </button>\n",
              "      \n",
              "  <style>\n",
              "    .colab-df-container {\n",
              "      display:flex;\n",
              "      flex-wrap:wrap;\n",
              "      gap: 12px;\n",
              "    }\n",
              "\n",
              "    .colab-df-convert {\n",
              "      background-color: #E8F0FE;\n",
              "      border: none;\n",
              "      border-radius: 50%;\n",
              "      cursor: pointer;\n",
              "      display: none;\n",
              "      fill: #1967D2;\n",
              "      height: 32px;\n",
              "      padding: 0 0 0 0;\n",
              "      width: 32px;\n",
              "    }\n",
              "\n",
              "    .colab-df-convert:hover {\n",
              "      background-color: #E2EBFA;\n",
              "      box-shadow: 0px 1px 2px rgba(60, 64, 67, 0.3), 0px 1px 3px 1px rgba(60, 64, 67, 0.15);\n",
              "      fill: #174EA6;\n",
              "    }\n",
              "\n",
              "    [theme=dark] .colab-df-convert {\n",
              "      background-color: #3B4455;\n",
              "      fill: #D2E3FC;\n",
              "    }\n",
              "\n",
              "    [theme=dark] .colab-df-convert:hover {\n",
              "      background-color: #434B5C;\n",
              "      box-shadow: 0px 1px 3px 1px rgba(0, 0, 0, 0.15);\n",
              "      filter: drop-shadow(0px 1px 2px rgba(0, 0, 0, 0.3));\n",
              "      fill: #FFFFFF;\n",
              "    }\n",
              "  </style>\n",
              "\n",
              "      <script>\n",
              "        const buttonEl =\n",
              "          document.querySelector('#df-3cb8d302-9696-43b6-96b4-39a66cf4e861 button.colab-df-convert');\n",
              "        buttonEl.style.display =\n",
              "          google.colab.kernel.accessAllowed ? 'block' : 'none';\n",
              "\n",
              "        async function convertToInteractive(key) {\n",
              "          const element = document.querySelector('#df-3cb8d302-9696-43b6-96b4-39a66cf4e861');\n",
              "          const dataTable =\n",
              "            await google.colab.kernel.invokeFunction('convertToInteractive',\n",
              "                                                     [key], {});\n",
              "          if (!dataTable) return;\n",
              "\n",
              "          const docLinkHtml = 'Like what you see? Visit the ' +\n",
              "            '<a target=\"_blank\" href=https://colab.research.google.com/notebooks/data_table.ipynb>data table notebook</a>'\n",
              "            + ' to learn more about interactive tables.';\n",
              "          element.innerHTML = '';\n",
              "          dataTable['output_type'] = 'display_data';\n",
              "          await google.colab.output.renderOutput(dataTable, element);\n",
              "          const docLink = document.createElement('div');\n",
              "          docLink.innerHTML = docLinkHtml;\n",
              "          element.appendChild(docLink);\n",
              "        }\n",
              "      </script>\n",
              "    </div>\n",
              "  </div>\n",
              "  "
            ]
          },
          "metadata": {},
          "execution_count": 19
        }
      ]
    },
    {
      "cell_type": "code",
      "source": [
        "# Part 1 continued\n",
        "stats.chi2_contingency(crosstab)"
      ],
      "metadata": {
        "colab": {
          "base_uri": "https://localhost:8080/"
        },
        "id": "a1EPEHEPSwuE",
        "outputId": "1dbb71b6-23e0-4185-f76f-5e356ec025d6"
      },
      "execution_count": 20,
      "outputs": [
        {
          "output_type": "execute_result",
          "data": {
            "text/plain": [
              "(1.0749713079092142,\n",
              " 0.29982523877153633,\n",
              " 1,\n",
              " array([[2390.52260716,  122.47739284],\n",
              "        [2469.47739284,  126.52260716]]))"
            ]
          },
          "metadata": {},
          "execution_count": 20
        }
      ]
    },
    {
      "cell_type": "code",
      "source": [
        "# Part 1 continued\n",
        "# chi-square test: work_type vs. stroke\n",
        "crosstab = pd.crosstab(df_sample4['work_type'], df_sample4['stroke'])\n",
        "crosstab"
      ],
      "metadata": {
        "colab": {
          "base_uri": "https://localhost:8080/",
          "height": 238
        },
        "id": "eFD2pBykSw1i",
        "outputId": "21952a01-a874-466d-8630-0d0496133206"
      },
      "execution_count": 21,
      "outputs": [
        {
          "output_type": "execute_result",
          "data": {
            "text/plain": [
              "stroke            0    1\n",
              "work_type               \n",
              "Govt_job        624   33\n",
              "Never_worked     22    0\n",
              "Private        2775  149\n",
              "Self-employed   754   65\n",
              "children        685    2"
            ],
            "text/html": [
              "\n",
              "  <div id=\"df-3e1768e2-ad38-4101-9230-1b68eaed52a9\">\n",
              "    <div class=\"colab-df-container\">\n",
              "      <div>\n",
              "<style scoped>\n",
              "    .dataframe tbody tr th:only-of-type {\n",
              "        vertical-align: middle;\n",
              "    }\n",
              "\n",
              "    .dataframe tbody tr th {\n",
              "        vertical-align: top;\n",
              "    }\n",
              "\n",
              "    .dataframe thead th {\n",
              "        text-align: right;\n",
              "    }\n",
              "</style>\n",
              "<table border=\"1\" class=\"dataframe\">\n",
              "  <thead>\n",
              "    <tr style=\"text-align: right;\">\n",
              "      <th>stroke</th>\n",
              "      <th>0</th>\n",
              "      <th>1</th>\n",
              "    </tr>\n",
              "    <tr>\n",
              "      <th>work_type</th>\n",
              "      <th></th>\n",
              "      <th></th>\n",
              "    </tr>\n",
              "  </thead>\n",
              "  <tbody>\n",
              "    <tr>\n",
              "      <th>Govt_job</th>\n",
              "      <td>624</td>\n",
              "      <td>33</td>\n",
              "    </tr>\n",
              "    <tr>\n",
              "      <th>Never_worked</th>\n",
              "      <td>22</td>\n",
              "      <td>0</td>\n",
              "    </tr>\n",
              "    <tr>\n",
              "      <th>Private</th>\n",
              "      <td>2775</td>\n",
              "      <td>149</td>\n",
              "    </tr>\n",
              "    <tr>\n",
              "      <th>Self-employed</th>\n",
              "      <td>754</td>\n",
              "      <td>65</td>\n",
              "    </tr>\n",
              "    <tr>\n",
              "      <th>children</th>\n",
              "      <td>685</td>\n",
              "      <td>2</td>\n",
              "    </tr>\n",
              "  </tbody>\n",
              "</table>\n",
              "</div>\n",
              "      <button class=\"colab-df-convert\" onclick=\"convertToInteractive('df-3e1768e2-ad38-4101-9230-1b68eaed52a9')\"\n",
              "              title=\"Convert this dataframe to an interactive table.\"\n",
              "              style=\"display:none;\">\n",
              "        \n",
              "  <svg xmlns=\"http://www.w3.org/2000/svg\" height=\"24px\"viewBox=\"0 0 24 24\"\n",
              "       width=\"24px\">\n",
              "    <path d=\"M0 0h24v24H0V0z\" fill=\"none\"/>\n",
              "    <path d=\"M18.56 5.44l.94 2.06.94-2.06 2.06-.94-2.06-.94-.94-2.06-.94 2.06-2.06.94zm-11 1L8.5 8.5l.94-2.06 2.06-.94-2.06-.94L8.5 2.5l-.94 2.06-2.06.94zm10 10l.94 2.06.94-2.06 2.06-.94-2.06-.94-.94-2.06-.94 2.06-2.06.94z\"/><path d=\"M17.41 7.96l-1.37-1.37c-.4-.4-.92-.59-1.43-.59-.52 0-1.04.2-1.43.59L10.3 9.45l-7.72 7.72c-.78.78-.78 2.05 0 2.83L4 21.41c.39.39.9.59 1.41.59.51 0 1.02-.2 1.41-.59l7.78-7.78 2.81-2.81c.8-.78.8-2.07 0-2.86zM5.41 20L4 18.59l7.72-7.72 1.47 1.35L5.41 20z\"/>\n",
              "  </svg>\n",
              "      </button>\n",
              "      \n",
              "  <style>\n",
              "    .colab-df-container {\n",
              "      display:flex;\n",
              "      flex-wrap:wrap;\n",
              "      gap: 12px;\n",
              "    }\n",
              "\n",
              "    .colab-df-convert {\n",
              "      background-color: #E8F0FE;\n",
              "      border: none;\n",
              "      border-radius: 50%;\n",
              "      cursor: pointer;\n",
              "      display: none;\n",
              "      fill: #1967D2;\n",
              "      height: 32px;\n",
              "      padding: 0 0 0 0;\n",
              "      width: 32px;\n",
              "    }\n",
              "\n",
              "    .colab-df-convert:hover {\n",
              "      background-color: #E2EBFA;\n",
              "      box-shadow: 0px 1px 2px rgba(60, 64, 67, 0.3), 0px 1px 3px 1px rgba(60, 64, 67, 0.15);\n",
              "      fill: #174EA6;\n",
              "    }\n",
              "\n",
              "    [theme=dark] .colab-df-convert {\n",
              "      background-color: #3B4455;\n",
              "      fill: #D2E3FC;\n",
              "    }\n",
              "\n",
              "    [theme=dark] .colab-df-convert:hover {\n",
              "      background-color: #434B5C;\n",
              "      box-shadow: 0px 1px 3px 1px rgba(0, 0, 0, 0.15);\n",
              "      filter: drop-shadow(0px 1px 2px rgba(0, 0, 0, 0.3));\n",
              "      fill: #FFFFFF;\n",
              "    }\n",
              "  </style>\n",
              "\n",
              "      <script>\n",
              "        const buttonEl =\n",
              "          document.querySelector('#df-3e1768e2-ad38-4101-9230-1b68eaed52a9 button.colab-df-convert');\n",
              "        buttonEl.style.display =\n",
              "          google.colab.kernel.accessAllowed ? 'block' : 'none';\n",
              "\n",
              "        async function convertToInteractive(key) {\n",
              "          const element = document.querySelector('#df-3e1768e2-ad38-4101-9230-1b68eaed52a9');\n",
              "          const dataTable =\n",
              "            await google.colab.kernel.invokeFunction('convertToInteractive',\n",
              "                                                     [key], {});\n",
              "          if (!dataTable) return;\n",
              "\n",
              "          const docLinkHtml = 'Like what you see? Visit the ' +\n",
              "            '<a target=\"_blank\" href=https://colab.research.google.com/notebooks/data_table.ipynb>data table notebook</a>'\n",
              "            + ' to learn more about interactive tables.';\n",
              "          element.innerHTML = '';\n",
              "          dataTable['output_type'] = 'display_data';\n",
              "          await google.colab.output.renderOutput(dataTable, element);\n",
              "          const docLink = document.createElement('div');\n",
              "          docLink.innerHTML = docLinkHtml;\n",
              "          element.appendChild(docLink);\n",
              "        }\n",
              "      </script>\n",
              "    </div>\n",
              "  </div>\n",
              "  "
            ]
          },
          "metadata": {},
          "execution_count": 21
        }
      ]
    },
    {
      "cell_type": "code",
      "source": [
        "# Part 1 continued\n",
        "stats.chi2_contingency(crosstab)"
      ],
      "metadata": {
        "colab": {
          "base_uri": "https://localhost:8080/"
        },
        "id": "emKFguAQSw4l",
        "outputId": "c0f4960d-df04-4da9-f8ee-0c6b8bc9249e"
      },
      "execution_count": 22,
      "outputs": [
        {
          "output_type": "execute_result",
          "data": {
            "text/plain": [
              "(49.1591485868476,\n",
              " 5.40903546949726e-10,\n",
              " 4,\n",
              " array([[6.24979448e+02, 3.20205520e+01],\n",
              "        [2.09277745e+01, 1.07222548e+00],\n",
              "        [2.78149149e+03, 1.42508514e+02],\n",
              "        [7.79083969e+02, 3.99160305e+01],\n",
              "        [6.53517322e+02, 3.34826776e+01]]))"
            ]
          },
          "metadata": {},
          "execution_count": 22
        }
      ]
    },
    {
      "cell_type": "code",
      "source": [
        "# Part 1 continued\n",
        "# chi-square test: smoking_status vs. stroke\n",
        "crosstab = pd.crosstab(df_sample4['smoking_status'], df_sample4['stroke'])\n",
        "crosstab"
      ],
      "metadata": {
        "colab": {
          "base_uri": "https://localhost:8080/",
          "height": 175
        },
        "id": "8icEob6-S7dU",
        "outputId": "941c0f61-bc61-4015-e286-1a5ffd5b0632"
      },
      "execution_count": 23,
      "outputs": [
        {
          "output_type": "execute_result",
          "data": {
            "text/plain": [
              "stroke              0    1\n",
              "smoking_status            \n",
              "formerly smoked   814   70\n",
              "never smoked     3299  137\n",
              "smokes            747   42"
            ],
            "text/html": [
              "\n",
              "  <div id=\"df-df688c10-1a31-4381-916d-f3dd8917d734\">\n",
              "    <div class=\"colab-df-container\">\n",
              "      <div>\n",
              "<style scoped>\n",
              "    .dataframe tbody tr th:only-of-type {\n",
              "        vertical-align: middle;\n",
              "    }\n",
              "\n",
              "    .dataframe tbody tr th {\n",
              "        vertical-align: top;\n",
              "    }\n",
              "\n",
              "    .dataframe thead th {\n",
              "        text-align: right;\n",
              "    }\n",
              "</style>\n",
              "<table border=\"1\" class=\"dataframe\">\n",
              "  <thead>\n",
              "    <tr style=\"text-align: right;\">\n",
              "      <th>stroke</th>\n",
              "      <th>0</th>\n",
              "      <th>1</th>\n",
              "    </tr>\n",
              "    <tr>\n",
              "      <th>smoking_status</th>\n",
              "      <th></th>\n",
              "      <th></th>\n",
              "    </tr>\n",
              "  </thead>\n",
              "  <tbody>\n",
              "    <tr>\n",
              "      <th>formerly smoked</th>\n",
              "      <td>814</td>\n",
              "      <td>70</td>\n",
              "    </tr>\n",
              "    <tr>\n",
              "      <th>never smoked</th>\n",
              "      <td>3299</td>\n",
              "      <td>137</td>\n",
              "    </tr>\n",
              "    <tr>\n",
              "      <th>smokes</th>\n",
              "      <td>747</td>\n",
              "      <td>42</td>\n",
              "    </tr>\n",
              "  </tbody>\n",
              "</table>\n",
              "</div>\n",
              "      <button class=\"colab-df-convert\" onclick=\"convertToInteractive('df-df688c10-1a31-4381-916d-f3dd8917d734')\"\n",
              "              title=\"Convert this dataframe to an interactive table.\"\n",
              "              style=\"display:none;\">\n",
              "        \n",
              "  <svg xmlns=\"http://www.w3.org/2000/svg\" height=\"24px\"viewBox=\"0 0 24 24\"\n",
              "       width=\"24px\">\n",
              "    <path d=\"M0 0h24v24H0V0z\" fill=\"none\"/>\n",
              "    <path d=\"M18.56 5.44l.94 2.06.94-2.06 2.06-.94-2.06-.94-.94-2.06-.94 2.06-2.06.94zm-11 1L8.5 8.5l.94-2.06 2.06-.94-2.06-.94L8.5 2.5l-.94 2.06-2.06.94zm10 10l.94 2.06.94-2.06 2.06-.94-2.06-.94-.94-2.06-.94 2.06-2.06.94z\"/><path d=\"M17.41 7.96l-1.37-1.37c-.4-.4-.92-.59-1.43-.59-.52 0-1.04.2-1.43.59L10.3 9.45l-7.72 7.72c-.78.78-.78 2.05 0 2.83L4 21.41c.39.39.9.59 1.41.59.51 0 1.02-.2 1.41-.59l7.78-7.78 2.81-2.81c.8-.78.8-2.07 0-2.86zM5.41 20L4 18.59l7.72-7.72 1.47 1.35L5.41 20z\"/>\n",
              "  </svg>\n",
              "      </button>\n",
              "      \n",
              "  <style>\n",
              "    .colab-df-container {\n",
              "      display:flex;\n",
              "      flex-wrap:wrap;\n",
              "      gap: 12px;\n",
              "    }\n",
              "\n",
              "    .colab-df-convert {\n",
              "      background-color: #E8F0FE;\n",
              "      border: none;\n",
              "      border-radius: 50%;\n",
              "      cursor: pointer;\n",
              "      display: none;\n",
              "      fill: #1967D2;\n",
              "      height: 32px;\n",
              "      padding: 0 0 0 0;\n",
              "      width: 32px;\n",
              "    }\n",
              "\n",
              "    .colab-df-convert:hover {\n",
              "      background-color: #E2EBFA;\n",
              "      box-shadow: 0px 1px 2px rgba(60, 64, 67, 0.3), 0px 1px 3px 1px rgba(60, 64, 67, 0.15);\n",
              "      fill: #174EA6;\n",
              "    }\n",
              "\n",
              "    [theme=dark] .colab-df-convert {\n",
              "      background-color: #3B4455;\n",
              "      fill: #D2E3FC;\n",
              "    }\n",
              "\n",
              "    [theme=dark] .colab-df-convert:hover {\n",
              "      background-color: #434B5C;\n",
              "      box-shadow: 0px 1px 3px 1px rgba(0, 0, 0, 0.15);\n",
              "      filter: drop-shadow(0px 1px 2px rgba(0, 0, 0, 0.3));\n",
              "      fill: #FFFFFF;\n",
              "    }\n",
              "  </style>\n",
              "\n",
              "      <script>\n",
              "        const buttonEl =\n",
              "          document.querySelector('#df-df688c10-1a31-4381-916d-f3dd8917d734 button.colab-df-convert');\n",
              "        buttonEl.style.display =\n",
              "          google.colab.kernel.accessAllowed ? 'block' : 'none';\n",
              "\n",
              "        async function convertToInteractive(key) {\n",
              "          const element = document.querySelector('#df-df688c10-1a31-4381-916d-f3dd8917d734');\n",
              "          const dataTable =\n",
              "            await google.colab.kernel.invokeFunction('convertToInteractive',\n",
              "                                                     [key], {});\n",
              "          if (!dataTable) return;\n",
              "\n",
              "          const docLinkHtml = 'Like what you see? Visit the ' +\n",
              "            '<a target=\"_blank\" href=https://colab.research.google.com/notebooks/data_table.ipynb>data table notebook</a>'\n",
              "            + ' to learn more about interactive tables.';\n",
              "          element.innerHTML = '';\n",
              "          dataTable['output_type'] = 'display_data';\n",
              "          await google.colab.output.renderOutput(dataTable, element);\n",
              "          const docLink = document.createElement('div');\n",
              "          docLink.innerHTML = docLinkHtml;\n",
              "          element.appendChild(docLink);\n",
              "        }\n",
              "      </script>\n",
              "    </div>\n",
              "  </div>\n",
              "  "
            ]
          },
          "metadata": {},
          "execution_count": 23
        }
      ]
    },
    {
      "cell_type": "code",
      "source": [
        "# Part 1 continued\n",
        "stats.chi2_contingency(crosstab)"
      ],
      "metadata": {
        "colab": {
          "base_uri": "https://localhost:8080/"
        },
        "id": "iMdVvYKXTBUH",
        "outputId": "bce60983-75e5-4766-a573-23f61e9d6ac4"
      },
      "execution_count": 24,
      "outputs": [
        {
          "output_type": "execute_result",
          "data": {
            "text/plain": [
              "(23.84575807229389,\n",
              " 6.636810633518104e-06,\n",
              " 2,\n",
              " array([[ 840.91603053,   43.08396947],\n",
              "        [3268.53787434,  167.46212566],\n",
              "        [ 750.54609513,   38.45390487]]))"
            ]
          },
          "metadata": {},
          "execution_count": 24
        }
      ]
    },
    {
      "cell_type": "code",
      "source": [
        "# Part 1 continued\n",
        "# chi-sqaure post hoc test for work_type and smoking_status\n",
        "\n",
        "## work type\n",
        "dummies = pd.get_dummies(df_sample4['work_type'])\n",
        "\n",
        "for series in dummies:\n",
        "  crosstab = pd.crosstab(dummies[f'{series}'], df_sample4['stroke'])\n",
        "  print(crosstab, '\\n')\n",
        "  chi2, p, dof, ecpected = stats.chi2_contingency(crosstab)\n",
        "  print(f'Chi2 value = {chi2}, p-value = {p}, df = {dof}')\n",
        "  print()\n"
      ],
      "metadata": {
        "colab": {
          "base_uri": "https://localhost:8080/"
        },
        "id": "Yn1tksc0TBZQ",
        "outputId": "62712919-bb93-421b-bc3c-d07d1e194ff2"
      },
      "execution_count": 25,
      "outputs": [
        {
          "output_type": "stream",
          "name": "stdout",
          "text": [
            "stroke       0    1\n",
            "Govt_job           \n",
            "0         4236  216\n",
            "1          624   33 \n",
            "\n",
            "Chi2 value = 0.008660334140911895, p-value = 0.9258551669275809, df = 1\n",
            "\n",
            "stroke           0    1\n",
            "Never_worked           \n",
            "0             4838  249\n",
            "1               22    0 \n",
            "\n",
            "Chi2 value = 0.32242006724269884, p-value = 0.570156890083992, df = 1\n",
            "\n",
            "stroke      0    1\n",
            "Private           \n",
            "0        2085  100\n",
            "1        2775  149 \n",
            "\n",
            "Chi2 value = 0.6191734473868207, p-value = 0.4313546039669218, df = 1\n",
            "\n",
            "stroke            0    1\n",
            "Self-employed           \n",
            "0              4106  184\n",
            "1               754   65 \n",
            "\n",
            "Chi2 value = 18.955485547287754, p-value = 1.3380401602010203e-05, df = 1\n",
            "\n",
            "stroke       0    1\n",
            "children           \n",
            "0         4175  247\n",
            "1          685    2 \n",
            "\n",
            "Chi2 value = 34.82046070158722, p-value = 3.615537224238463e-09, df = 1\n",
            "\n"
          ]
        }
      ]
    },
    {
      "cell_type": "code",
      "source": [
        "# Part 1 continued\n",
        "# smoking status\n",
        "dummies = pd.get_dummies(df_sample4['smoking_status'])\n",
        "\n",
        "for series in dummies:\n",
        "  crosstab = pd.crosstab(dummies[f'{series}'], df_sample4['stroke'])\n",
        "  print(crosstab, '\\n')\n",
        "  chi2, p, dof, ecpected = stats.chi2_contingency(crosstab)\n",
        "  print(f'Chi2 value = {chi2}, p-value = {p}, df = {dof}')\n",
        "  print()"
      ],
      "metadata": {
        "colab": {
          "base_uri": "https://localhost:8080/"
        },
        "id": "mb_dAFczTBck",
        "outputId": "b393ab5e-ec91-456b-f2e3-d02254b789d5"
      },
      "execution_count": 26,
      "outputs": [
        {
          "output_type": "stream",
          "name": "stdout",
          "text": [
            "stroke              0    1\n",
            "formerly smoked           \n",
            "0                4046  179\n",
            "1                 814   70 \n",
            "\n",
            "Chi2 value = 20.588666991495394, p-value = 5.6932145282837105e-06, df = 1\n",
            "\n",
            "stroke           0    1\n",
            "never smoked           \n",
            "0             1561  112\n",
            "1             3299  137 \n",
            "\n",
            "Chi2 value = 17.20949941122615, p-value = 3.3475824871454873e-05, df = 1\n",
            "\n",
            "stroke     0    1\n",
            "smokes           \n",
            "0       4113  207\n",
            "1        747   42 \n",
            "\n",
            "Chi2 value = 0.2999841198085903, p-value = 0.5838923763940107, df = 1\n",
            "\n"
          ]
        }
      ]
    },
    {
      "cell_type": "code",
      "source": [
        "# Part 2: Logistic Regression - Variable Transformation\n",
        "\n",
        "# Standardize the numerical variables \n",
        "df_sample5 = df_sample4.copy()\n",
        "df_sample5[nvar_list] = (df_sample4[nvar_list] - df_sample4[nvar_list].mean())/df_sample4[nvar_list].std()\n",
        "\n",
        "# Set the datatype for the variables in the cvar_list to be categorical in Python\n",
        "# Set the datatype for the variables in the nvar_list to be numerical in Python \n",
        "df_sample6 = df_sample5.copy()\n",
        "df_sample6[cvar_list] = df_sample5[cvar_list].astype('category')\n",
        "df_sample6[nvar_list] = df_sample5[nvar_list].astype('float64')\n",
        "\n",
        "\n",
        "# Convert the categorical variables into dummies (Step 1 of dummy coding)\n",
        "# prefix_sep is the sympol used to create the dummy variable names.\n",
        "\n",
        "df_sample7 = df_sample6.copy()\n",
        "df_sample7 = pd.get_dummies(df_sample6, prefix_sep='_')\n",
        "\n",
        "# Remove the redundant dummies (Step 2 of dummy coding)\n",
        "# Placeholder variable: rdummies\n",
        "rdummies = ['gender_Male', 'hypertension_0', 'heart_disease_0', 'ever_married_No', 'work_type_Govt_job', 'Residence_type_Rural', 'smoking_status_formerly smoked', 'stroke_0']\n",
        "df_sample8 = df_sample7.copy()\n",
        "df_sample8 = df_sample7.drop(columns=rdummies)\n",
        "\n",
        "# Get the remaining variable list after the variable transformation\n",
        "print(df_sample8.columns.values)\n",
        "\n",
        "# Display the milestone dataframe\n",
        "print(df_sample8)\n",
        "\n"
      ],
      "metadata": {
        "colab": {
          "base_uri": "https://localhost:8080/"
        },
        "id": "Pg9T5kZdK8R3",
        "outputId": "5b142a59-b971-4cde-e108-4494b4bbcc6b"
      },
      "execution_count": 27,
      "outputs": [
        {
          "output_type": "stream",
          "name": "stdout",
          "text": [
            "['age' 'avg_glucose_level' 'bmi' 'gender_Female' 'hypertension_1'\n",
            " 'heart_disease_1' 'ever_married_Yes' 'work_type_Never_worked'\n",
            " 'work_type_Private' 'work_type_Self-employed' 'work_type_children'\n",
            " 'Residence_type_Urban' 'smoking_status_never smoked'\n",
            " 'smoking_status_smokes' 'stroke_1']\n",
            "           age  avg_glucose_level       bmi  gender_Female  hypertension_1  \\\n",
            "0     1.051139           2.706185  1.004794              0               0   \n",
            "1     0.785812           2.121444 -0.099133              1               0   \n",
            "2     1.626015          -0.004867  0.472312              0               0   \n",
            "3     0.255157           1.437332  0.719072              1               0   \n",
            "4     1.581794           1.501150 -0.631615              1               1   \n",
            "...        ...                ...       ...            ...             ...   \n",
            "5105  1.626015          -0.494433 -0.099133              1               1   \n",
            "5106  1.670236           0.420881  1.446365              1               0   \n",
            "5107 -0.363940          -0.511216  0.225552              1               0   \n",
            "5108  0.343600           1.328245 -0.423817              0               0   \n",
            "5109  0.034051          -0.460647 -0.345893              1               0   \n",
            "\n",
            "      heart_disease_1  ever_married_Yes  work_type_Never_worked  \\\n",
            "0                   1                 1                       0   \n",
            "1                   0                 1                       0   \n",
            "2                   1                 1                       0   \n",
            "3                   0                 1                       0   \n",
            "4                   0                 1                       0   \n",
            "...               ...               ...                     ...   \n",
            "5105                0                 1                       0   \n",
            "5106                0                 1                       0   \n",
            "5107                0                 1                       0   \n",
            "5108                0                 1                       0   \n",
            "5109                0                 1                       0   \n",
            "\n",
            "      work_type_Private  work_type_Self-employed  work_type_children  \\\n",
            "0                     1                        0                   0   \n",
            "1                     0                        1                   0   \n",
            "2                     1                        0                   0   \n",
            "3                     1                        0                   0   \n",
            "4                     0                        1                   0   \n",
            "...                 ...                      ...                 ...   \n",
            "5105                  1                        0                   0   \n",
            "5106                  0                        1                   0   \n",
            "5107                  0                        1                   0   \n",
            "5108                  1                        0                   0   \n",
            "5109                  0                        0                   0   \n",
            "\n",
            "      Residence_type_Urban  smoking_status_never smoked  \\\n",
            "0                        1                            0   \n",
            "1                        0                            1   \n",
            "2                        0                            1   \n",
            "3                        1                            0   \n",
            "4                        0                            1   \n",
            "...                    ...                          ...   \n",
            "5105                     1                            1   \n",
            "5106                     1                            1   \n",
            "5107                     0                            1   \n",
            "5108                     0                            0   \n",
            "5109                     1                            1   \n",
            "\n",
            "      smoking_status_smokes  stroke_1  \n",
            "0                         0         1  \n",
            "1                         0         1  \n",
            "2                         0         1  \n",
            "3                         1         1  \n",
            "4                         0         1  \n",
            "...                     ...       ...  \n",
            "5105                      0         0  \n",
            "5106                      0         0  \n",
            "5107                      0         0  \n",
            "5108                      0         0  \n",
            "5109                      0         0  \n",
            "\n",
            "[5109 rows x 15 columns]\n"
          ]
        }
      ]
    },
    {
      "cell_type": "code",
      "source": [
        "# Part 2 continued - Data Partition\n",
        "\n",
        "df4partition = df_sample8\n",
        "\n",
        "testpart_size = 0.2\n",
        "\n",
        "df_nontestData, df_testData = train_test_split(df4partition, test_size = testpart_size, random_state = 1)\n",
        "\n",
        "print(df_nontestData)\n",
        "print(df_testData)"
      ],
      "metadata": {
        "colab": {
          "base_uri": "https://localhost:8080/"
        },
        "id": "AjwMc75GU7rA",
        "outputId": "d6091c17-562f-4467-bef1-f414fbe36090"
      },
      "execution_count": 28,
      "outputs": [
        {
          "output_type": "stream",
          "name": "stdout",
          "text": [
            "           age  avg_glucose_level       bmi  gender_Female  hypertension_1  \\\n",
            "4153  1.581794          -0.753017 -0.683565              0               1   \n",
            "4052  1.360688          -0.838255 -0.203032              1               0   \n",
            "5076 -0.408161           1.506671 -0.761489              1               0   \n",
            "874   1.626015          -1.085357 -0.280956              0               0   \n",
            "3535  0.255157          -0.461751 -0.449792              1               0   \n",
            "...        ...                ...       ...            ...             ...   \n",
            "2895  0.122493           0.698456  0.056716              0               0   \n",
            "2763  0.078272          -0.936522  0.407375              1               0   \n",
            "905  -0.540825          -0.659830  0.874921              1               0   \n",
            "3981  1.316466          -0.655634 -0.021208              0               0   \n",
            "235   1.095360           2.316873  1.355453              1               0   \n",
            "\n",
            "      heart_disease_1  ever_married_Yes  work_type_Never_worked  \\\n",
            "4153                0                 1                       0   \n",
            "4052                0                 1                       0   \n",
            "5076                0                 1                       0   \n",
            "874                 0                 1                       0   \n",
            "3535                0                 1                       0   \n",
            "...               ...               ...                     ...   \n",
            "2895                0                 1                       0   \n",
            "2763                0                 1                       0   \n",
            "905                 0                 1                       0   \n",
            "3981                0                 1                       0   \n",
            "235                 0                 1                       0   \n",
            "\n",
            "      work_type_Private  work_type_Self-employed  work_type_children  \\\n",
            "4153                  0                        1                   0   \n",
            "4052                  0                        1                   0   \n",
            "5076                  1                        0                   0   \n",
            "874                   1                        0                   0   \n",
            "3535                  1                        0                   0   \n",
            "...                 ...                      ...                 ...   \n",
            "2895                  1                        0                   0   \n",
            "2763                  1                        0                   0   \n",
            "905                   1                        0                   0   \n",
            "3981                  0                        0                   0   \n",
            "235                   1                        0                   0   \n",
            "\n",
            "      Residence_type_Urban  smoking_status_never smoked  \\\n",
            "4153                     1                            0   \n",
            "4052                     1                            0   \n",
            "5076                     0                            1   \n",
            "874                      0                            1   \n",
            "3535                     0                            1   \n",
            "...                    ...                          ...   \n",
            "2895                     1                            1   \n",
            "2763                     0                            1   \n",
            "905                      0                            1   \n",
            "3981                     0                            1   \n",
            "235                      0                            1   \n",
            "\n",
            "      smoking_status_smokes  stroke_1  \n",
            "4153                      0         0  \n",
            "4052                      0         0  \n",
            "5076                      0         0  \n",
            "874                       0         0  \n",
            "3535                      0         0  \n",
            "...                     ...       ...  \n",
            "2895                      0         0  \n",
            "2763                      0         0  \n",
            "905                       0         0  \n",
            "3981                      0         0  \n",
            "235                       0         1  \n",
            "\n",
            "[4087 rows x 15 columns]\n",
            "           age  avg_glucose_level       bmi  gender_Female  hypertension_1  \\\n",
            "4674 -1.557913          -0.995261 -1.267996              0               0   \n",
            "3233 -1.823240          -0.278026 -0.722527              0               0   \n",
            "3695 -1.779019          -0.298562 -1.748529              1               0   \n",
            "1070  1.670236           3.095939 -1.008249              1               0   \n",
            "4164  1.714457           2.569937 -0.099133              1               1   \n",
            "...        ...                ...       ...            ...             ...   \n",
            "2030 -1.890457          -0.731377 -0.099133              0               0   \n",
            "4556 -0.806152          -0.840684 -1.332933              1               0   \n",
            "1056 -1.513692          -0.183292 -0.722527              0               0   \n",
            "854   0.122493          -0.254177 -0.514729              1               0   \n",
            "4289 -0.187055           0.240468  1.485327              0               0   \n",
            "\n",
            "      heart_disease_1  ever_married_Yes  work_type_Never_worked  \\\n",
            "4674                0                 0                       0   \n",
            "3233                0                 0                       0   \n",
            "3695                0                 0                       0   \n",
            "1070                0                 1                       0   \n",
            "4164                0                 1                       0   \n",
            "...               ...               ...                     ...   \n",
            "2030                0                 0                       0   \n",
            "4556                0                 0                       0   \n",
            "1056                0                 0                       0   \n",
            "854                 0                 1                       0   \n",
            "4289                0                 1                       0   \n",
            "\n",
            "      work_type_Private  work_type_Self-employed  work_type_children  \\\n",
            "4674                  0                        0                   1   \n",
            "3233                  0                        0                   1   \n",
            "3695                  0                        0                   1   \n",
            "1070                  0                        1                   0   \n",
            "4164                  1                        0                   0   \n",
            "...                 ...                      ...                 ...   \n",
            "2030                  0                        0                   1   \n",
            "4556                  1                        0                   0   \n",
            "1056                  0                        0                   1   \n",
            "854                   0                        1                   0   \n",
            "4289                  1                        0                   0   \n",
            "\n",
            "      Residence_type_Urban  smoking_status_never smoked  \\\n",
            "4674                     1                            1   \n",
            "3233                     1                            1   \n",
            "3695                     1                            1   \n",
            "1070                     0                            1   \n",
            "4164                     1                            0   \n",
            "...                    ...                          ...   \n",
            "2030                     1                            1   \n",
            "4556                     1                            0   \n",
            "1056                     1                            1   \n",
            "854                      1                            1   \n",
            "4289                     0                            0   \n",
            "\n",
            "      smoking_status_smokes  stroke_1  \n",
            "4674                      0         0  \n",
            "3233                      0         0  \n",
            "3695                      0         0  \n",
            "1070                      0         0  \n",
            "4164                      0         0  \n",
            "...                     ...       ...  \n",
            "2030                      0         0  \n",
            "4556                      1         0  \n",
            "1056                      0         0  \n",
            "854                       0         0  \n",
            "4289                      0         0  \n",
            "\n",
            "[1022 rows x 15 columns]\n"
          ]
        }
      ]
    },
    {
      "cell_type": "code",
      "source": [
        "# Part 2 continued: Running logistic regression with a pre specified alpha to identify the most and least important predictors. \n",
        "\n",
        "DV = 'stroke_1'\n",
        "y = df_nontestData[DV]\n",
        "X = df_nontestData.drop(columns = [DV])\n",
        "\n",
        "alpha = 12\n",
        "\n",
        "clf = LogisticRegression(C = 1/alpha, penalty = 'l1', solver = 'saga', max_iter = 2000, random_state = 1).fit(X,y)\n",
        "\n",
        "def summary_coef(model_object):\n",
        "  n_predictors = X.shape[1]\n",
        "  model_coef = pd.DataFrame(model_object.coef_.reshape(1, n_predictors), columns = X.columns.values)\n",
        "  model_coef['Intercept'] = model_object.intercept_\n",
        "  return model_coef.transpose()\n",
        "\n",
        "\n",
        "print(summary_coef(clf))"
      ],
      "metadata": {
        "colab": {
          "base_uri": "https://localhost:8080/"
        },
        "id": "bIjl6iNNrYLj",
        "outputId": "b4a20b8f-eb53-4cfb-bf2a-61db313df783"
      },
      "execution_count": 29,
      "outputs": [
        {
          "output_type": "stream",
          "name": "stdout",
          "text": [
            "                                    0\n",
            "age                          1.439359\n",
            "avg_glucose_level            0.172358\n",
            "bmi                          0.000000\n",
            "gender_Female                0.000000\n",
            "hypertension_1               0.022127\n",
            "heart_disease_1              0.000000\n",
            "ever_married_Yes             0.000000\n",
            "work_type_Never_worked       0.000000\n",
            "work_type_Private            0.000000\n",
            "work_type_Self-employed      0.000000\n",
            "work_type_children           0.000000\n",
            "Residence_type_Urban         0.000000\n",
            "smoking_status_never smoked  0.000000\n",
            "smoking_status_smokes        0.000000\n",
            "Intercept                   -3.857798\n"
          ]
        }
      ]
    },
    {
      "cell_type": "code",
      "source": [
        "# Part 2 continued: Running logistic regression with cross validation\n",
        "\n",
        "kfolds = 5\n",
        "\n",
        "min_alpha = 0.001\n",
        "\n",
        "max_alpha = 100\n",
        "\n",
        "n_candidates = 1000\n",
        "\n",
        "import numpy as np\n",
        "\n",
        "alpha_list = list(np.linspace(min_alpha, max_alpha, num = n_candidates))\n",
        "\n",
        "C_list = list(1/np.linspace(min_alpha, max_alpha, num = n_candidates))\n",
        "\n",
        "clf_optimal = LogisticRegressionCV(Cs = C_list, cv = kfolds, penalty = 'l1', solver = 'saga', max_iter = 5000, random_state = 1, n_jobs = -1).fit(X,y)\n",
        "\n",
        "print(summary_coef(clf_optimal))\n",
        "\n",
        "print(1/clf_optimal.C_)\n",
        "\n",
        "# y_test_actual is the actual values of the DV in the test partition\n",
        "y_test_actual = df_testData[DV]\n",
        "\n",
        "# X_test is the predictor values in the test partition\n",
        "X_test = df_testData.drop(columns=[DV])\n",
        "\n",
        "# Use predict method of the clf_optimal object to apply the model associated with clf_optimal to the test partition\n",
        "# y_test_predicted is the predicted values of the DV in the test partition \n",
        "y_test_predicted = clf_optimal.predict(X_test)\n",
        "\n",
        "\n",
        "# Display the confusion matrix over the test partition\n",
        "print(metrics.confusion_matrix(y_test_actual, y_test_predicted))\n",
        "\n",
        "# Display the accuracy over the test partition\n",
        "print(clf_optimal.score(X_test, y_test_actual))"
      ],
      "metadata": {
        "colab": {
          "base_uri": "https://localhost:8080/"
        },
        "id": "dQuk9Sw6wkET",
        "outputId": "65b16e3f-1c64-4802-9530-adeabab899a5"
      },
      "execution_count": 30,
      "outputs": [
        {
          "output_type": "stream",
          "name": "stdout",
          "text": [
            "                                    0\n",
            "age                          1.596337\n",
            "avg_glucose_level            0.183235\n",
            "bmi                          0.000000\n",
            "gender_Female                0.066077\n",
            "hypertension_1               0.331337\n",
            "heart_disease_1              0.229323\n",
            "ever_married_Yes            -0.385241\n",
            "work_type_Never_worked       0.000000\n",
            "work_type_Private            0.194559\n",
            "work_type_Self-employed     -0.096496\n",
            "work_type_children           0.000000\n",
            "Residence_type_Urban         0.104209\n",
            "smoking_status_never smoked -0.078182\n",
            "smoking_status_smokes        0.000000\n",
            "Intercept                   -3.909809\n",
            "[2.10308108]\n",
            "[[962   0]\n",
            " [ 60   0]]\n",
            "0.9412915851272016\n"
          ]
        }
      ]
    },
    {
      "cell_type": "code",
      "source": [
        "# Part 2 continued: Applying SMOTE to account for the rare event problem [Note: This takes about 5 mins to run]\n",
        "\n",
        "DV = 'stroke_1'\n",
        "y = df_nontestData[DV]\n",
        "X = df_nontestData.drop(columns=[DV])\n",
        "\n",
        "\n",
        "imba_pipeline = make_pipeline(SMOTE(random_state=1), \n",
        "                              LogisticRegression(penalty='l1', solver='saga', max_iter=5000, random_state=1))\n",
        "\n",
        "param_grid = {'C': C_list}\n",
        "\n",
        "new_params = {'logisticregression__' + key: param_grid[key] for key in param_grid}\n",
        "\n",
        "grid_imba = GridSearchCV(imba_pipeline, param_grid=new_params, cv=kfolds, n_jobs=-1)\n",
        "grid_imba.fit(X,y)\n",
        "clf_optimal_imba = grid_imba.best_estimator_.named_steps['logisticregression']"
      ],
      "metadata": {
        "id": "gYEWTP0_5RNJ"
      },
      "execution_count": 31,
      "outputs": []
    },
    {
      "cell_type": "code",
      "source": [
        "# Display the estimated coefficients of the final selected model\n",
        "print(summary_coef(clf_optimal_imba))\n",
        "\n",
        "# Display the optimal alpha that yields the final selected model (the best model candidate)\n",
        "print(1/clf_optimal_imba.C)\n",
        "\n",
        "# Calcuate the error rate over the test partition based on the final selected model\n",
        "\n",
        "# y_test_actual is the actual values of the DV in the test partition\n",
        "y_test_actual = df_testData[DV]\n",
        "\n",
        "# X_test is the predictor values in the test partition\n",
        "X_test = df_testData.drop(columns=[DV])\n",
        "\n",
        "# Use predict method of the clf_optimal object to apply the model associated with clf_optimal to the test partition\n",
        "# y_test_predicted is the predicted values of the DV in the test partition \n",
        "y_test_predicted = clf_optimal_imba.predict(X_test)\n",
        "\n",
        "# Display the confusion matrix over the test partition\n",
        "print(metrics.confusion_matrix(y_test_actual, y_test_predicted))\n",
        "\n",
        "# Display the accuracy over the test partition\n",
        "print(clf_optimal_imba.score(X_test, y_test_actual))"
      ],
      "metadata": {
        "colab": {
          "base_uri": "https://localhost:8080/"
        },
        "id": "eouOKqD_5eG9",
        "outputId": "ce2dd5db-13e6-404a-99aa-3d582f502a2b"
      },
      "execution_count": 32,
      "outputs": [
        {
          "output_type": "stream",
          "name": "stdout",
          "text": [
            "                                    0\n",
            "age                          2.051125\n",
            "avg_glucose_level            0.186028\n",
            "bmi                         -0.009840\n",
            "gender_Female               -0.118626\n",
            "hypertension_1              -0.334817\n",
            "heart_disease_1             -0.579004\n",
            "ever_married_Yes            -0.753097\n",
            "work_type_Never_worked      -0.362236\n",
            "work_type_Private           -0.208657\n",
            "work_type_Self-employed     -0.847223\n",
            "work_type_children          -0.306506\n",
            "Residence_type_Urban        -0.184123\n",
            "smoking_status_never smoked -0.846583\n",
            "smoking_status_smokes       -0.950712\n",
            "Intercept                    0.441795\n",
            "0.6015945945945946\n",
            "[[715 247]\n",
            " [ 17  43]]\n",
            "0.7416829745596869\n"
          ]
        }
      ]
    },
    {
      "cell_type": "code",
      "source": [
        "# Part 3: Nearest neighbor approach\n",
        "\n",
        "# Separate the predictor values and the DV values into X and y respectively\n",
        "# Placeholder variable: DV\n",
        "DV = 'stroke_1'\n",
        "y = df_nontestData[DV]\n",
        "X = df_nontestData.drop(columns=[DV])\n",
        "\n",
        "# First we build a kNN model with pre-specified k\n",
        "k = 5\n",
        "\n",
        "clf = KNeighborsClassifier(metric='euclidean', n_neighbors=k).fit(X,y)\n",
        "\n",
        "# Report the performance over the test partition\n",
        "\n",
        "X_test = df_testData.drop(columns=DV)\n",
        "y_test = df_testData[DV]\n",
        "\n",
        "model_object = clf\n",
        "\n",
        "# obtain the AUC of the k-NN model with k=5\n",
        "print(metrics.roc_auc_score(y_test, model_object.predict_proba(X_test)[:, 1]))"
      ],
      "metadata": {
        "colab": {
          "base_uri": "https://localhost:8080/"
        },
        "id": "xHzP7Wg65MXZ",
        "outputId": "a021c806-df66-4fe5-c809-e2d1712755ad"
      },
      "execution_count": 33,
      "outputs": [
        {
          "output_type": "stream",
          "name": "stdout",
          "text": [
            "0.6201923076923076\n"
          ]
        }
      ]
    },
    {
      "cell_type": "code",
      "source": [
        "# Part 3 continued: Nearest neighbor with cross validation [Note: Takes about a minute to run]\n",
        "\n",
        "# Run Nearest neighbor with k-fold cross validation\n",
        "# Placeholder variable: kfolds\n",
        "kfolds = 5\n",
        "\n",
        "# We first define the search scope. k (k-th nearest neighbor) will be increased from 1 to max_k\n",
        "max_k = 200\n",
        "\n",
        "param_grid = {'n_neighbors': list(range(1, max_k+1))}\n",
        "\n",
        "# Set n_jobs to be -1 to run  on all CPU cores.\n",
        "# The search criterion is to find the model that maximizes \n",
        "# whatever the scoring function - for this case roc_auc - returns.\n",
        "\n",
        "\n",
        "gridsearch = GridSearchCV(KNeighborsClassifier(metric='euclidean'), param_grid, scoring='roc_auc', cv=kfolds, n_jobs=-1)\n",
        "gridsearch.fit(X,y)\n",
        "clf_bestkNN = gridsearch.best_estimator_"
      ],
      "metadata": {
        "id": "cZgeFFwd5beD"
      },
      "execution_count": 34,
      "outputs": []
    },
    {
      "cell_type": "code",
      "source": [
        "# Part 3 continued: Displaying the results of the optimal nearest neighbor approach\n",
        "\n",
        "# Display the optimal k (k-th nearest neighbor)\n",
        "print(clf_bestkNN.n_neighbors)\n",
        "\n",
        "# y_test_actual is the actual values of the DV in the test partition\n",
        "y_test_actual = df_testData[DV]\n",
        "\n",
        "# X_test is the predictor values in the test partition\n",
        "X_test = df_testData.drop(columns=[DV])\n",
        "\n",
        "# Get the AUC of the final selected k-NN model\n",
        "\n",
        "print(roc_auc_score(y_test_actual, clf_bestkNN.predict_proba(X_test)[:,1]))"
      ],
      "metadata": {
        "colab": {
          "base_uri": "https://localhost:8080/"
        },
        "id": "PoNRIkaS5tUV",
        "outputId": "fef80c26-e55c-4b7e-85b2-d21089c8644c"
      },
      "execution_count": 35,
      "outputs": [
        {
          "output_type": "stream",
          "name": "stdout",
          "text": [
            "185\n",
            "0.8356981981981982\n"
          ]
        }
      ]
    },
    {
      "cell_type": "code",
      "source": [
        "# Part 3: Classification Tree - Preparing and partitioning the data\n",
        "\n",
        "# Set the datatype for the variables in the cvar_list to be categorical in Python\n",
        "# Set the datatype for the variables in the nvar_list to be numerical in Python \n",
        "df_sample5 = df_sample4.copy()\n",
        "df_sample5[cvar_list] = df_sample2[cvar_list].astype('category')\n",
        "df_sample5[nvar_list] = df_sample2[nvar_list].astype('float64')\n",
        "\n",
        "# Convert the categorical variables into dummies (Step 1 of dummy coding)\n",
        "# prefix_sep is the sympol used to create the dummy variable names.\n",
        "\n",
        "df_sample6 = df_sample5.copy()\n",
        "df_sample6 = pd.get_dummies(df_sample6, prefix_sep='_')\n",
        "\n",
        "# Remove the redundant dummies (Step 2 of dummy coding)\n",
        "# Placeholder variable: rdummies\n",
        "rdummies = ['gender_Male', 'hypertension_0', 'heart_disease_0', 'ever_married_No', 'work_type_Govt_job', 'Residence_type_Rural', 'smoking_status_formerly smoked', 'stroke_0']\n",
        "df_sample7 = df_sample6.copy()\n",
        "df_sample7 = df_sample6.drop(columns=rdummies)\n",
        "\n",
        "\n",
        "# Placeholder variables: df4partition, testpart_size\n",
        "# test_size specifies the percentage for the test partition\n",
        "df4partition_CT = df_sample7\n",
        "testpart_size = 0.2\n",
        "\n",
        "# random_state specifies the seed for random number generator. \n",
        "# random_state = 1 unless otherwised noted\n",
        "df_nontestData_CT, df_testData_CT = train_test_split(df4partition_CT, test_size=testpart_size, random_state=1)\n",
        "\n",
        "print(df_nontestData_CT)"
      ],
      "metadata": {
        "colab": {
          "base_uri": "https://localhost:8080/"
        },
        "id": "DGtf3tivOmqL",
        "outputId": "1b4f9bc2-9d77-420b-f48e-2ce149e599ec"
      },
      "execution_count": 36,
      "outputs": [
        {
          "output_type": "stream",
          "name": "stdout",
          "text": [
            "       age  avg_glucose_level   bmi  gender_Female  gender_Other  \\\n",
            "4153  79.0              72.04  23.6              0             0   \n",
            "4052  74.0              68.18  27.3              1             0   \n",
            "5076  34.0             174.37  23.0              1             0   \n",
            "874   80.0              56.99  26.7              0             0   \n",
            "3535  49.0              85.23  25.4              1             0   \n",
            "...    ...                ...   ...            ...           ...   \n",
            "2895  46.0             137.77  29.3              0             0   \n",
            "2763  45.0              63.73  32.0              1             0   \n",
            "905   31.0              76.26  35.6              1             0   \n",
            "3981  73.0              76.45  28.7              0             0   \n",
            "235   68.0             211.06  39.3              1             0   \n",
            "\n",
            "      hypertension_1  heart_disease_1  ever_married_Yes  \\\n",
            "4153               1                0                 1   \n",
            "4052               0                0                 1   \n",
            "5076               0                0                 1   \n",
            "874                0                0                 1   \n",
            "3535               0                0                 1   \n",
            "...              ...              ...               ...   \n",
            "2895               0                0                 1   \n",
            "2763               0                0                 1   \n",
            "905                0                0                 1   \n",
            "3981               0                0                 1   \n",
            "235                0                0                 1   \n",
            "\n",
            "      work_type_Never_worked  work_type_Private  work_type_Self-employed  \\\n",
            "4153                       0                  0                        1   \n",
            "4052                       0                  0                        1   \n",
            "5076                       0                  1                        0   \n",
            "874                        0                  1                        0   \n",
            "3535                       0                  1                        0   \n",
            "...                      ...                ...                      ...   \n",
            "2895                       0                  1                        0   \n",
            "2763                       0                  1                        0   \n",
            "905                        0                  1                        0   \n",
            "3981                       0                  0                        0   \n",
            "235                        0                  1                        0   \n",
            "\n",
            "      work_type_children  Residence_type_Urban  smoking_status_Unknown  \\\n",
            "4153                   0                     1                       0   \n",
            "4052                   0                     1                       0   \n",
            "5076                   0                     0                       0   \n",
            "874                    0                     0                       0   \n",
            "3535                   0                     0                       1   \n",
            "...                  ...                   ...                     ...   \n",
            "2895                   0                     1                       0   \n",
            "2763                   0                     0                       1   \n",
            "905                    0                     0                       0   \n",
            "3981                   0                     0                       1   \n",
            "235                    0                     0                       1   \n",
            "\n",
            "      smoking_status_never smoked  smoking_status_smokes  stroke_1  \n",
            "4153                            0                      0         0  \n",
            "4052                            0                      0         0  \n",
            "5076                            1                      0         0  \n",
            "874                             1                      0         0  \n",
            "3535                            0                      0         0  \n",
            "...                           ...                    ...       ...  \n",
            "2895                            1                      0         0  \n",
            "2763                            0                      0         0  \n",
            "905                             1                      0         0  \n",
            "3981                            0                      0         0  \n",
            "235                             0                      0         1  \n",
            "\n",
            "[4087 rows x 17 columns]\n"
          ]
        }
      ]
    },
    {
      "cell_type": "code",
      "source": [
        "# Part 3 continued: Defining a funtion to display the tree\n",
        "\n",
        "# Separate the predictor values and the DV values into X and y respectively\n",
        "# Placeholder variable: DV\n",
        "DV = 'stroke_1'\n",
        "y = df_nontestData_CT[DV]\n",
        "X = df_nontestData_CT.drop(columns=[DV])\n",
        "\n",
        "\n",
        "\n",
        "# A user-defined function summary_tree to display a classification tree\n",
        "def summary_tree(model_object):\n",
        "  dot_data = StringIO()\n",
        "  export_graphviz(model_object, out_file=dot_data, filled=True,\n",
        "                  rounded=True, special_characters=True, feature_names=X.columns.values,\n",
        "                  class_names=['0', '1'])\n",
        "  graph = pydotplus.graph_from_dot_data(dot_data.getvalue())\n",
        "  output_imagefile = 'tree.png'\n",
        "  graph.write_png(output_imagefile)\n",
        "  return output_imagefile\n"
      ],
      "metadata": {
        "id": "hhJgjfq8PgOt"
      },
      "execution_count": 37,
      "outputs": []
    },
    {
      "cell_type": "code",
      "source": [
        "# Part 3 continued: Generating the initial classification tree\n",
        "\n",
        "# Run Classification tree with k-fold cross validation with k=5\n",
        "# Placeholder variable: kfolds\n",
        "kfolds = 5\n",
        "\n",
        "# Here we specify within which range of depths we will search for the best pruned tree\n",
        "maximum_depth = 100\n",
        "minimum_depth = 1\n",
        "\n",
        "param_grid = {'max_depth': list(range(minimum_depth, maximum_depth+1))}\n",
        "\n",
        "\n",
        "gridsearch = GridSearchCV(DecisionTreeClassifier(criterion='entropy', random_state=1), param_grid, scoring='roc_auc', cv=kfolds, n_jobs=-1)\n",
        "gridsearch.fit(X,y)\n",
        "clf_BPT = gridsearch.best_estimator_\n",
        "\n",
        "# Display the resulting best pruned tree\n",
        "Image(summary_tree(clf_BPT))\n"
      ],
      "metadata": {
        "colab": {
          "base_uri": "https://localhost:8080/",
          "height": 436
        },
        "id": "XIMTY07TPpW6",
        "outputId": "fd4e690d-0b41-4f98-eb7b-da3aa0277076"
      },
      "execution_count": 38,
      "outputs": [
        {
          "output_type": "execute_result",
          "data": {
            "image/png": "[encoded data removed]",
            "text/plain": [
              "<IPython.core.display.Image object>"
            ]
          },
          "metadata": {},
          "execution_count": 38
        }
      ]
    },
    {
      "cell_type": "code",
      "source": [
        "# Part 3 continued: measuring the accuracy of the classification tree\n",
        "\n",
        "# Display the level of depth of the best pruned tree\n",
        "print(clf_BPT.get_depth())\n",
        "\n",
        "# y_test_actual is the actual values of the DV in the test partition\n",
        "y_test_actual = df_testData_CT[DV]\n",
        "\n",
        "# X_test is the predictor values in the test partition\n",
        "X_test = df_testData_CT.drop(columns=[DV])\n",
        "\n",
        "\n",
        "# Get the AUC of the best pruned tree model\n",
        "print(roc_auc_score(y_test_actual, clf_BPT.predict_proba(X_test)[:,1]))"
      ],
      "metadata": {
        "colab": {
          "base_uri": "https://localhost:8080/"
        },
        "id": "VdU9Ur3LQP6c",
        "outputId": "b775389a-2721-4593-8eff-95557284fa3a"
      },
      "execution_count": 40,
      "outputs": [
        {
          "output_type": "stream",
          "name": "stdout",
          "text": [
            "2\n",
            "0.8366857241857242\n"
          ]
        }
      ]
    },
    {
      "cell_type": "code",
      "source": [
        "# Part 3 continued: Generating a classification tree with SMOTE \n",
        "\n",
        "imba_pipeline = make_pipeline(SMOTE(random_state=1), \n",
        "                              DecisionTreeClassifier(criterion='entropy', random_state=1))\n",
        "\n",
        "new_params = {'decisiontreeclassifier__' + key: param_grid[key] for key in param_grid}\n",
        "\n",
        "grid_imba = GridSearchCV(imba_pipeline, param_grid=new_params, cv=kfolds, scoring='roc_auc', n_jobs=-1)\n",
        "grid_imba.fit(X,y)\n",
        "clf_BPT_imba = grid_imba.best_estimator_.named_steps['decisiontreeclassifier']\n",
        "\n",
        "Image(summary_tree(clf_BPT_imba))"
      ],
      "metadata": {
        "colab": {
          "base_uri": "https://localhost:8080/",
          "height": 436
        },
        "id": "4mJuOrf8REd1",
        "outputId": "858f6398-95f8-485f-e2ab-dcedea8b3b9c"
      },
      "execution_count": 41,
      "outputs": [
        {
          "output_type": "execute_result",
          "data": {
            "image/png": "[encoded data removed]",
            "text/plain": [
              "<IPython.core.display.Image object>"
            ]
          },
          "metadata": {},
          "execution_count": 41
        }
      ]
    },
    {
      "cell_type": "code",
      "source": [
        "# Part 3 continued: Displaying the accuracy of the final tree\n",
        "print(clf_BPT_imba.get_depth())\n",
        "\n",
        "# y_test_actual is the actual values of the DV in the test partition\n",
        "y_test_actual = df_testData_CT[DV]\n",
        "\n",
        "# X_test is the predictor values in the test partition\n",
        "X_test = df_testData_CT.drop(columns=[DV])\n",
        "\n",
        "\n",
        "# Get the AUC of the best pruned tree model\n",
        "\n",
        "print(roc_auc_score(y_test_actual, clf_BPT_imba.predict_proba(X_test)[:,1]))"
      ],
      "metadata": {
        "colab": {
          "base_uri": "https://localhost:8080/"
        },
        "id": "z_fOPlqVRPmC",
        "outputId": "edb2e505-d1ef-4b3a-8381-d868f1369898"
      },
      "execution_count": 42,
      "outputs": [
        {
          "output_type": "stream",
          "name": "stdout",
          "text": [
            "2\n",
            "0.8255370755370754\n"
          ]
        }
      ]
    },
    {
      "cell_type": "code",
      "source": [
        "# Part 3 continued: Displaying the rules\n",
        "\n",
        "# The user-defined function for getting the tree path\n",
        "# Author: Federico Ibba on stackoverflow.com \n",
        "# Created date: Jan 19, 2018\n",
        "# URL: https://stackoverflow.com/questions/32506951/how-to-explore-a-decision-tree-built-using-scikit-learn/35911666\n",
        "# Modified by Lin Hao during Oct. 2020\n",
        "\n",
        "def get_treepaths(dtc, df):\n",
        "    rules_list = []\n",
        "    values_path = []\n",
        "    values = dtc.tree_.value\n",
        "\n",
        "    def RevTraverseTree(tree, node, rules, pathValues):\n",
        "        try:\n",
        "            prevnode = tree[2].index(node)           \n",
        "            leftright = '<='\n",
        "            pathValues.append(values[prevnode])\n",
        "        except ValueError:\n",
        "            # failed, so find it as a right node - if this also causes an exception, something's really f'd up\n",
        "            prevnode = tree[3].index(node)\n",
        "            leftright = '>'\n",
        "            pathValues.append(values[prevnode])\n",
        "\n",
        "        # now let's get the rule that caused prevnode to -> node\n",
        "        p1 = df.columns[tree[0][prevnode]]    \n",
        "        p2 = tree[1][prevnode]    \n",
        "        rules.append(str(p1) + ' ' + leftright + ' ' + str(p2))\n",
        "\n",
        "        # if we've not yet reached the top, go up the tree one more step\n",
        "        if prevnode != 0:\n",
        "            RevTraverseTree(tree, prevnode, rules, pathValues)\n",
        "\n",
        "    # get the nodes which are leaves\n",
        "    leaves = dtc.tree_.children_left == -1\n",
        "    leaves = np.arange(0,dtc.tree_.node_count)[leaves]\n",
        "\n",
        "    # build a simpler tree as a nested list: [split feature, split threshold, left node, right node]\n",
        "    thistree = [dtc.tree_.feature.tolist()]\n",
        "    thistree.append(dtc.tree_.threshold.tolist())\n",
        "    thistree.append(dtc.tree_.children_left.tolist())\n",
        "    thistree.append(dtc.tree_.children_right.tolist())\n",
        "\n",
        "    # get the decision rules for each leaf node & apply them\n",
        "    for (ind,nod) in enumerate(leaves):\n",
        "\n",
        "        # get the decision rules\n",
        "        rules = []\n",
        "        pathValues = []\n",
        "        RevTraverseTree(thistree, nod, rules, pathValues)\n",
        "\n",
        "        pathValues.insert(0, values[nod])      \n",
        "        pathValues = list(reversed(pathValues))\n",
        "\n",
        "        rules = list(reversed(rules))\n",
        "\n",
        "        rules_list.append(rules)\n",
        "        values_path.append(pathValues)\n",
        "\n",
        "    for i in range(len(rules_list)):\n",
        "      \n",
        "      print('\\nLeaf node ID =', i+1)\n",
        "      print('Path =', rules_list[i])\n",
        "      distro = sum(values_path[i][-1])\n",
        "      print('sample =', int(sum(distro)))\n",
        "      print('value =', list([int(distro[0]), int(distro[1])]))\n",
        "      predicted_class = 1 if distro[1] > distro[0] else 0\n",
        "      print('class = ', predicted_class)\n",
        "      \n",
        "    return None\n",
        "\n",
        "get_treepaths(dtc=clf_BPT_imba, df=df_nontestData)"
      ],
      "metadata": {
        "colab": {
          "base_uri": "https://localhost:8080/"
        },
        "id": "5eF7LLGGBYNu",
        "outputId": "8ed85fc5-a591-4887-9fc0-34dbb5115c7d"
      },
      "execution_count": 43,
      "outputs": [
        {
          "output_type": "stream",
          "name": "stdout",
          "text": [
            "\n",
            "Leaf node ID = 1\n",
            "Path = ['age <= 49.00570487976074', 'age <= 38.11854553222656']\n",
            "sample = 1726\n",
            "value = [1669, 57]\n",
            "class =  0\n",
            "\n",
            "Leaf node ID = 2\n",
            "Path = ['age <= 49.00570487976074', 'age > 38.11854553222656']\n",
            "sample = 836\n",
            "value = [637, 199]\n",
            "class =  0\n",
            "\n",
            "Leaf node ID = 3\n",
            "Path = ['age > 49.00570487976074', 'age <= 67.00444412231445']\n",
            "sample = 2334\n",
            "value = [1043, 1291]\n",
            "class =  1\n",
            "\n",
            "Leaf node ID = 4\n",
            "Path = ['age > 49.00570487976074', 'age > 67.00444412231445']\n",
            "sample = 2900\n",
            "value = [549, 2351]\n",
            "class =  1\n"
          ]
        }
      ]
    }
  ]
}